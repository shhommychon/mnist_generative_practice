{
    "nbformat": 4,
    "nbformat_minor": 0,
    "metadata": {
        "colab": {
            "provenance": [],
            "gpuType": "T4",
            "collapsed_sections": [
                "9QLQMzLhkGZr"
            ],
            "authorship_tag": "ABX9TyM6ilGC+kmY4mf5d2bD3Hvm"
        },
        "kernelspec": {
            "name": "python3",
            "display_name": "Python 3"
        },
        "language_info": {
            "name": "python"
        },
        "accelerator": "GPU",
        "widgets": {
            "application/vnd.jupyter.widget-state+json": {
                "072816ced3344b64b2758d8bad5e8104": {
                    "model_module": "@jupyter-widgets/controls",
                    "model_name": "HBoxModel",
                    "model_module_version": "1.5.0",
                    "state": {
                        "_dom_classes": [],
                        "_model_module": "@jupyter-widgets/controls",
                        "_model_module_version": "1.5.0",
                        "_model_name": "HBoxModel",
                        "_view_count": null,
                        "_view_module": "@jupyter-widgets/controls",
                        "_view_module_version": "1.5.0",
                        "_view_name": "HBoxView",
                        "box_style": "",
                        "children": [
                            "IPY_MODEL_4b1fe13c6da04d819f05798d75964129",
                            "IPY_MODEL_264e6961713147fab3d461bc953f4e22",
                            "IPY_MODEL_ac288737d06f497f893dd25eb421bb7e"
                        ],
                        "layout": "IPY_MODEL_2b40fd4ee70f4da3820146f8c9a9b55f"
                    }
                },
                "4b1fe13c6da04d819f05798d75964129": {
                    "model_module": "@jupyter-widgets/controls",
                    "model_name": "HTMLModel",
                    "model_module_version": "1.5.0",
                    "state": {
                        "_dom_classes": [],
                        "_model_module": "@jupyter-widgets/controls",
                        "_model_module_version": "1.5.0",
                        "_model_name": "HTMLModel",
                        "_view_count": null,
                        "_view_module": "@jupyter-widgets/controls",
                        "_view_module_version": "1.5.0",
                        "_view_name": "HTMLView",
                        "description": "",
                        "description_tooltip": null,
                        "layout": "IPY_MODEL_fb10143a7a964c429a625635b41de7ac",
                        "placeholder": "​",
                        "style": "IPY_MODEL_451dc1fc91bc464d9cbeb082cf4fb65c",
                        "value": ""
                    }
                },
                "264e6961713147fab3d461bc953f4e22": {
                    "model_module": "@jupyter-widgets/controls",
                    "model_name": "FloatProgressModel",
                    "model_module_version": "1.5.0",
                    "state": {
                        "_dom_classes": [],
                        "_model_module": "@jupyter-widgets/controls",
                        "_model_module_version": "1.5.0",
                        "_model_name": "FloatProgressModel",
                        "_view_count": null,
                        "_view_module": "@jupyter-widgets/controls",
                        "_view_module_version": "1.5.0",
                        "_view_name": "ProgressView",
                        "bar_style": "success",
                        "description": "",
                        "description_tooltip": null,
                        "layout": "IPY_MODEL_4732787dcb7a45f7a21dea9e685ec621",
                        "max": 9912422,
                        "min": 0,
                        "orientation": "horizontal",
                        "style": "IPY_MODEL_14a6ac9715f7428595480be187c157bb",
                        "value": 9912422
                    }
                },
                "ac288737d06f497f893dd25eb421bb7e": {
                    "model_module": "@jupyter-widgets/controls",
                    "model_name": "HTMLModel",
                    "model_module_version": "1.5.0",
                    "state": {
                        "_dom_classes": [],
                        "_model_module": "@jupyter-widgets/controls",
                        "_model_module_version": "1.5.0",
                        "_model_name": "HTMLModel",
                        "_view_count": null,
                        "_view_module": "@jupyter-widgets/controls",
                        "_view_module_version": "1.5.0",
                        "_view_name": "HTMLView",
                        "description": "",
                        "description_tooltip": null,
                        "layout": "IPY_MODEL_f286920402c3472db59cb3f414a81dd1",
                        "placeholder": "​",
                        "style": "IPY_MODEL_8a81945dfc7d4efdabd1cf086a4c7dd2",
                        "value": " 9913344/? [00:00&lt;00:00, 43516765.74it/s]"
                    }
                },
                "2b40fd4ee70f4da3820146f8c9a9b55f": {
                    "model_module": "@jupyter-widgets/base",
                    "model_name": "LayoutModel",
                    "model_module_version": "1.2.0",
                    "state": {
                        "_model_module": "@jupyter-widgets/base",
                        "_model_module_version": "1.2.0",
                        "_model_name": "LayoutModel",
                        "_view_count": null,
                        "_view_module": "@jupyter-widgets/base",
                        "_view_module_version": "1.2.0",
                        "_view_name": "LayoutView",
                        "align_content": null,
                        "align_items": null,
                        "align_self": null,
                        "border": null,
                        "bottom": null,
                        "display": null,
                        "flex": null,
                        "flex_flow": null,
                        "grid_area": null,
                        "grid_auto_columns": null,
                        "grid_auto_flow": null,
                        "grid_auto_rows": null,
                        "grid_column": null,
                        "grid_gap": null,
                        "grid_row": null,
                        "grid_template_areas": null,
                        "grid_template_columns": null,
                        "grid_template_rows": null,
                        "height": null,
                        "justify_content": null,
                        "justify_items": null,
                        "left": null,
                        "margin": null,
                        "max_height": null,
                        "max_width": null,
                        "min_height": null,
                        "min_width": null,
                        "object_fit": null,
                        "object_position": null,
                        "order": null,
                        "overflow": null,
                        "overflow_x": null,
                        "overflow_y": null,
                        "padding": null,
                        "right": null,
                        "top": null,
                        "visibility": null,
                        "width": null
                    }
                },
                "fb10143a7a964c429a625635b41de7ac": {
                    "model_module": "@jupyter-widgets/base",
                    "model_name": "LayoutModel",
                    "model_module_version": "1.2.0",
                    "state": {
                        "_model_module": "@jupyter-widgets/base",
                        "_model_module_version": "1.2.0",
                        "_model_name": "LayoutModel",
                        "_view_count": null,
                        "_view_module": "@jupyter-widgets/base",
                        "_view_module_version": "1.2.0",
                        "_view_name": "LayoutView",
                        "align_content": null,
                        "align_items": null,
                        "align_self": null,
                        "border": null,
                        "bottom": null,
                        "display": null,
                        "flex": null,
                        "flex_flow": null,
                        "grid_area": null,
                        "grid_auto_columns": null,
                        "grid_auto_flow": null,
                        "grid_auto_rows": null,
                        "grid_column": null,
                        "grid_gap": null,
                        "grid_row": null,
                        "grid_template_areas": null,
                        "grid_template_columns": null,
                        "grid_template_rows": null,
                        "height": null,
                        "justify_content": null,
                        "justify_items": null,
                        "left": null,
                        "margin": null,
                        "max_height": null,
                        "max_width": null,
                        "min_height": null,
                        "min_width": null,
                        "object_fit": null,
                        "object_position": null,
                        "order": null,
                        "overflow": null,
                        "overflow_x": null,
                        "overflow_y": null,
                        "padding": null,
                        "right": null,
                        "top": null,
                        "visibility": null,
                        "width": null
                    }
                },
                "451dc1fc91bc464d9cbeb082cf4fb65c": {
                    "model_module": "@jupyter-widgets/controls",
                    "model_name": "DescriptionStyleModel",
                    "model_module_version": "1.5.0",
                    "state": {
                        "_model_module": "@jupyter-widgets/controls",
                        "_model_module_version": "1.5.0",
                        "_model_name": "DescriptionStyleModel",
                        "_view_count": null,
                        "_view_module": "@jupyter-widgets/base",
                        "_view_module_version": "1.2.0",
                        "_view_name": "StyleView",
                        "description_width": ""
                    }
                },
                "4732787dcb7a45f7a21dea9e685ec621": {
                    "model_module": "@jupyter-widgets/base",
                    "model_name": "LayoutModel",
                    "model_module_version": "1.2.0",
                    "state": {
                        "_model_module": "@jupyter-widgets/base",
                        "_model_module_version": "1.2.0",
                        "_model_name": "LayoutModel",
                        "_view_count": null,
                        "_view_module": "@jupyter-widgets/base",
                        "_view_module_version": "1.2.0",
                        "_view_name": "LayoutView",
                        "align_content": null,
                        "align_items": null,
                        "align_self": null,
                        "border": null,
                        "bottom": null,
                        "display": null,
                        "flex": null,
                        "flex_flow": null,
                        "grid_area": null,
                        "grid_auto_columns": null,
                        "grid_auto_flow": null,
                        "grid_auto_rows": null,
                        "grid_column": null,
                        "grid_gap": null,
                        "grid_row": null,
                        "grid_template_areas": null,
                        "grid_template_columns": null,
                        "grid_template_rows": null,
                        "height": null,
                        "justify_content": null,
                        "justify_items": null,
                        "left": null,
                        "margin": null,
                        "max_height": null,
                        "max_width": null,
                        "min_height": null,
                        "min_width": null,
                        "object_fit": null,
                        "object_position": null,
                        "order": null,
                        "overflow": null,
                        "overflow_x": null,
                        "overflow_y": null,
                        "padding": null,
                        "right": null,
                        "top": null,
                        "visibility": null,
                        "width": null
                    }
                },
                "14a6ac9715f7428595480be187c157bb": {
                    "model_module": "@jupyter-widgets/controls",
                    "model_name": "ProgressStyleModel",
                    "model_module_version": "1.5.0",
                    "state": {
                        "_model_module": "@jupyter-widgets/controls",
                        "_model_module_version": "1.5.0",
                        "_model_name": "ProgressStyleModel",
                        "_view_count": null,
                        "_view_module": "@jupyter-widgets/base",
                        "_view_module_version": "1.2.0",
                        "_view_name": "StyleView",
                        "bar_color": null,
                        "description_width": ""
                    }
                },
                "f286920402c3472db59cb3f414a81dd1": {
                    "model_module": "@jupyter-widgets/base",
                    "model_name": "LayoutModel",
                    "model_module_version": "1.2.0",
                    "state": {
                        "_model_module": "@jupyter-widgets/base",
                        "_model_module_version": "1.2.0",
                        "_model_name": "LayoutModel",
                        "_view_count": null,
                        "_view_module": "@jupyter-widgets/base",
                        "_view_module_version": "1.2.0",
                        "_view_name": "LayoutView",
                        "align_content": null,
                        "align_items": null,
                        "align_self": null,
                        "border": null,
                        "bottom": null,
                        "display": null,
                        "flex": null,
                        "flex_flow": null,
                        "grid_area": null,
                        "grid_auto_columns": null,
                        "grid_auto_flow": null,
                        "grid_auto_rows": null,
                        "grid_column": null,
                        "grid_gap": null,
                        "grid_row": null,
                        "grid_template_areas": null,
                        "grid_template_columns": null,
                        "grid_template_rows": null,
                        "height": null,
                        "justify_content": null,
                        "justify_items": null,
                        "left": null,
                        "margin": null,
                        "max_height": null,
                        "max_width": null,
                        "min_height": null,
                        "min_width": null,
                        "object_fit": null,
                        "object_position": null,
                        "order": null,
                        "overflow": null,
                        "overflow_x": null,
                        "overflow_y": null,
                        "padding": null,
                        "right": null,
                        "top": null,
                        "visibility": null,
                        "width": null
                    }
                },
                "8a81945dfc7d4efdabd1cf086a4c7dd2": {
                    "model_module": "@jupyter-widgets/controls",
                    "model_name": "DescriptionStyleModel",
                    "model_module_version": "1.5.0",
                    "state": {
                        "_model_module": "@jupyter-widgets/controls",
                        "_model_module_version": "1.5.0",
                        "_model_name": "DescriptionStyleModel",
                        "_view_count": null,
                        "_view_module": "@jupyter-widgets/base",
                        "_view_module_version": "1.2.0",
                        "_view_name": "StyleView",
                        "description_width": ""
                    }
                },
                "abf421e5c80049b6a05a906735dce8d4": {
                    "model_module": "@jupyter-widgets/controls",
                    "model_name": "HBoxModel",
                    "model_module_version": "1.5.0",
                    "state": {
                        "_dom_classes": [],
                        "_model_module": "@jupyter-widgets/controls",
                        "_model_module_version": "1.5.0",
                        "_model_name": "HBoxModel",
                        "_view_count": null,
                        "_view_module": "@jupyter-widgets/controls",
                        "_view_module_version": "1.5.0",
                        "_view_name": "HBoxView",
                        "box_style": "",
                        "children": [
                            "IPY_MODEL_39642085391c451c94871b7efa88aa65",
                            "IPY_MODEL_28f58341f7bb43348516865f5af00c5e",
                            "IPY_MODEL_7aa1682814d84f818cbbb420fced8008"
                        ],
                        "layout": "IPY_MODEL_191bdb54e71f4f53ba2342e750d749ea"
                    }
                },
                "39642085391c451c94871b7efa88aa65": {
                    "model_module": "@jupyter-widgets/controls",
                    "model_name": "HTMLModel",
                    "model_module_version": "1.5.0",
                    "state": {
                        "_dom_classes": [],
                        "_model_module": "@jupyter-widgets/controls",
                        "_model_module_version": "1.5.0",
                        "_model_name": "HTMLModel",
                        "_view_count": null,
                        "_view_module": "@jupyter-widgets/controls",
                        "_view_module_version": "1.5.0",
                        "_view_name": "HTMLView",
                        "description": "",
                        "description_tooltip": null,
                        "layout": "IPY_MODEL_770e50ff74c94ba2aa153cdc7dfe931e",
                        "placeholder": "​",
                        "style": "IPY_MODEL_e913d78dfc884c7aa5dc765f9bc3e85c",
                        "value": ""
                    }
                },
                "28f58341f7bb43348516865f5af00c5e": {
                    "model_module": "@jupyter-widgets/controls",
                    "model_name": "FloatProgressModel",
                    "model_module_version": "1.5.0",
                    "state": {
                        "_dom_classes": [],
                        "_model_module": "@jupyter-widgets/controls",
                        "_model_module_version": "1.5.0",
                        "_model_name": "FloatProgressModel",
                        "_view_count": null,
                        "_view_module": "@jupyter-widgets/controls",
                        "_view_module_version": "1.5.0",
                        "_view_name": "ProgressView",
                        "bar_style": "success",
                        "description": "",
                        "description_tooltip": null,
                        "layout": "IPY_MODEL_16f00f7c4b7c4b118e6d9366088fc79b",
                        "max": 28881,
                        "min": 0,
                        "orientation": "horizontal",
                        "style": "IPY_MODEL_0521a14058654114bd65f66ac71d4e89",
                        "value": 28881
                    }
                },
                "7aa1682814d84f818cbbb420fced8008": {
                    "model_module": "@jupyter-widgets/controls",
                    "model_name": "HTMLModel",
                    "model_module_version": "1.5.0",
                    "state": {
                        "_dom_classes": [],
                        "_model_module": "@jupyter-widgets/controls",
                        "_model_module_version": "1.5.0",
                        "_model_name": "HTMLModel",
                        "_view_count": null,
                        "_view_module": "@jupyter-widgets/controls",
                        "_view_module_version": "1.5.0",
                        "_view_name": "HTMLView",
                        "description": "",
                        "description_tooltip": null,
                        "layout": "IPY_MODEL_d98db837fd3841e089b5f868975d4174",
                        "placeholder": "​",
                        "style": "IPY_MODEL_2cc2442b4a0541b08d506c29578f32cb",
                        "value": " 29696/? [00:00&lt;00:00, 1660145.17it/s]"
                    }
                },
                "191bdb54e71f4f53ba2342e750d749ea": {
                    "model_module": "@jupyter-widgets/base",
                    "model_name": "LayoutModel",
                    "model_module_version": "1.2.0",
                    "state": {
                        "_model_module": "@jupyter-widgets/base",
                        "_model_module_version": "1.2.0",
                        "_model_name": "LayoutModel",
                        "_view_count": null,
                        "_view_module": "@jupyter-widgets/base",
                        "_view_module_version": "1.2.0",
                        "_view_name": "LayoutView",
                        "align_content": null,
                        "align_items": null,
                        "align_self": null,
                        "border": null,
                        "bottom": null,
                        "display": null,
                        "flex": null,
                        "flex_flow": null,
                        "grid_area": null,
                        "grid_auto_columns": null,
                        "grid_auto_flow": null,
                        "grid_auto_rows": null,
                        "grid_column": null,
                        "grid_gap": null,
                        "grid_row": null,
                        "grid_template_areas": null,
                        "grid_template_columns": null,
                        "grid_template_rows": null,
                        "height": null,
                        "justify_content": null,
                        "justify_items": null,
                        "left": null,
                        "margin": null,
                        "max_height": null,
                        "max_width": null,
                        "min_height": null,
                        "min_width": null,
                        "object_fit": null,
                        "object_position": null,
                        "order": null,
                        "overflow": null,
                        "overflow_x": null,
                        "overflow_y": null,
                        "padding": null,
                        "right": null,
                        "top": null,
                        "visibility": null,
                        "width": null
                    }
                },
                "770e50ff74c94ba2aa153cdc7dfe931e": {
                    "model_module": "@jupyter-widgets/base",
                    "model_name": "LayoutModel",
                    "model_module_version": "1.2.0",
                    "state": {
                        "_model_module": "@jupyter-widgets/base",
                        "_model_module_version": "1.2.0",
                        "_model_name": "LayoutModel",
                        "_view_count": null,
                        "_view_module": "@jupyter-widgets/base",
                        "_view_module_version": "1.2.0",
                        "_view_name": "LayoutView",
                        "align_content": null,
                        "align_items": null,
                        "align_self": null,
                        "border": null,
                        "bottom": null,
                        "display": null,
                        "flex": null,
                        "flex_flow": null,
                        "grid_area": null,
                        "grid_auto_columns": null,
                        "grid_auto_flow": null,
                        "grid_auto_rows": null,
                        "grid_column": null,
                        "grid_gap": null,
                        "grid_row": null,
                        "grid_template_areas": null,
                        "grid_template_columns": null,
                        "grid_template_rows": null,
                        "height": null,
                        "justify_content": null,
                        "justify_items": null,
                        "left": null,
                        "margin": null,
                        "max_height": null,
                        "max_width": null,
                        "min_height": null,
                        "min_width": null,
                        "object_fit": null,
                        "object_position": null,
                        "order": null,
                        "overflow": null,
                        "overflow_x": null,
                        "overflow_y": null,
                        "padding": null,
                        "right": null,
                        "top": null,
                        "visibility": null,
                        "width": null
                    }
                },
                "e913d78dfc884c7aa5dc765f9bc3e85c": {
                    "model_module": "@jupyter-widgets/controls",
                    "model_name": "DescriptionStyleModel",
                    "model_module_version": "1.5.0",
                    "state": {
                        "_model_module": "@jupyter-widgets/controls",
                        "_model_module_version": "1.5.0",
                        "_model_name": "DescriptionStyleModel",
                        "_view_count": null,
                        "_view_module": "@jupyter-widgets/base",
                        "_view_module_version": "1.2.0",
                        "_view_name": "StyleView",
                        "description_width": ""
                    }
                },
                "16f00f7c4b7c4b118e6d9366088fc79b": {
                    "model_module": "@jupyter-widgets/base",
                    "model_name": "LayoutModel",
                    "model_module_version": "1.2.0",
                    "state": {
                        "_model_module": "@jupyter-widgets/base",
                        "_model_module_version": "1.2.0",
                        "_model_name": "LayoutModel",
                        "_view_count": null,
                        "_view_module": "@jupyter-widgets/base",
                        "_view_module_version": "1.2.0",
                        "_view_name": "LayoutView",
                        "align_content": null,
                        "align_items": null,
                        "align_self": null,
                        "border": null,
                        "bottom": null,
                        "display": null,
                        "flex": null,
                        "flex_flow": null,
                        "grid_area": null,
                        "grid_auto_columns": null,
                        "grid_auto_flow": null,
                        "grid_auto_rows": null,
                        "grid_column": null,
                        "grid_gap": null,
                        "grid_row": null,
                        "grid_template_areas": null,
                        "grid_template_columns": null,
                        "grid_template_rows": null,
                        "height": null,
                        "justify_content": null,
                        "justify_items": null,
                        "left": null,
                        "margin": null,
                        "max_height": null,
                        "max_width": null,
                        "min_height": null,
                        "min_width": null,
                        "object_fit": null,
                        "object_position": null,
                        "order": null,
                        "overflow": null,
                        "overflow_x": null,
                        "overflow_y": null,
                        "padding": null,
                        "right": null,
                        "top": null,
                        "visibility": null,
                        "width": null
                    }
                },
                "0521a14058654114bd65f66ac71d4e89": {
                    "model_module": "@jupyter-widgets/controls",
                    "model_name": "ProgressStyleModel",
                    "model_module_version": "1.5.0",
                    "state": {
                        "_model_module": "@jupyter-widgets/controls",
                        "_model_module_version": "1.5.0",
                        "_model_name": "ProgressStyleModel",
                        "_view_count": null,
                        "_view_module": "@jupyter-widgets/base",
                        "_view_module_version": "1.2.0",
                        "_view_name": "StyleView",
                        "bar_color": null,
                        "description_width": ""
                    }
                },
                "d98db837fd3841e089b5f868975d4174": {
                    "model_module": "@jupyter-widgets/base",
                    "model_name": "LayoutModel",
                    "model_module_version": "1.2.0",
                    "state": {
                        "_model_module": "@jupyter-widgets/base",
                        "_model_module_version": "1.2.0",
                        "_model_name": "LayoutModel",
                        "_view_count": null,
                        "_view_module": "@jupyter-widgets/base",
                        "_view_module_version": "1.2.0",
                        "_view_name": "LayoutView",
                        "align_content": null,
                        "align_items": null,
                        "align_self": null,
                        "border": null,
                        "bottom": null,
                        "display": null,
                        "flex": null,
                        "flex_flow": null,
                        "grid_area": null,
                        "grid_auto_columns": null,
                        "grid_auto_flow": null,
                        "grid_auto_rows": null,
                        "grid_column": null,
                        "grid_gap": null,
                        "grid_row": null,
                        "grid_template_areas": null,
                        "grid_template_columns": null,
                        "grid_template_rows": null,
                        "height": null,
                        "justify_content": null,
                        "justify_items": null,
                        "left": null,
                        "margin": null,
                        "max_height": null,
                        "max_width": null,
                        "min_height": null,
                        "min_width": null,
                        "object_fit": null,
                        "object_position": null,
                        "order": null,
                        "overflow": null,
                        "overflow_x": null,
                        "overflow_y": null,
                        "padding": null,
                        "right": null,
                        "top": null,
                        "visibility": null,
                        "width": null
                    }
                },
                "2cc2442b4a0541b08d506c29578f32cb": {
                    "model_module": "@jupyter-widgets/controls",
                    "model_name": "DescriptionStyleModel",
                    "model_module_version": "1.5.0",
                    "state": {
                        "_model_module": "@jupyter-widgets/controls",
                        "_model_module_version": "1.5.0",
                        "_model_name": "DescriptionStyleModel",
                        "_view_count": null,
                        "_view_module": "@jupyter-widgets/base",
                        "_view_module_version": "1.2.0",
                        "_view_name": "StyleView",
                        "description_width": ""
                    }
                },
                "b2b3cdc43ba0491392726a6572053ce9": {
                    "model_module": "@jupyter-widgets/controls",
                    "model_name": "HBoxModel",
                    "model_module_version": "1.5.0",
                    "state": {
                        "_dom_classes": [],
                        "_model_module": "@jupyter-widgets/controls",
                        "_model_module_version": "1.5.0",
                        "_model_name": "HBoxModel",
                        "_view_count": null,
                        "_view_module": "@jupyter-widgets/controls",
                        "_view_module_version": "1.5.0",
                        "_view_name": "HBoxView",
                        "box_style": "",
                        "children": [
                            "IPY_MODEL_23e2d00d6f854675a5940288b28712cf",
                            "IPY_MODEL_a436a2e086b840f4adb8ae63ea0408f6",
                            "IPY_MODEL_3a6bc77670bc44b7808574c25d0695f2"
                        ],
                        "layout": "IPY_MODEL_3295d5f668aa432fb99010c509d15648"
                    }
                },
                "23e2d00d6f854675a5940288b28712cf": {
                    "model_module": "@jupyter-widgets/controls",
                    "model_name": "HTMLModel",
                    "model_module_version": "1.5.0",
                    "state": {
                        "_dom_classes": [],
                        "_model_module": "@jupyter-widgets/controls",
                        "_model_module_version": "1.5.0",
                        "_model_name": "HTMLModel",
                        "_view_count": null,
                        "_view_module": "@jupyter-widgets/controls",
                        "_view_module_version": "1.5.0",
                        "_view_name": "HTMLView",
                        "description": "",
                        "description_tooltip": null,
                        "layout": "IPY_MODEL_49029fa54ff145aaa4a5ab3ed10e23a8",
                        "placeholder": "​",
                        "style": "IPY_MODEL_7bf6b6bfbde4446bb7a57c6ca90c4bbf",
                        "value": ""
                    }
                },
                "a436a2e086b840f4adb8ae63ea0408f6": {
                    "model_module": "@jupyter-widgets/controls",
                    "model_name": "FloatProgressModel",
                    "model_module_version": "1.5.0",
                    "state": {
                        "_dom_classes": [],
                        "_model_module": "@jupyter-widgets/controls",
                        "_model_module_version": "1.5.0",
                        "_model_name": "FloatProgressModel",
                        "_view_count": null,
                        "_view_module": "@jupyter-widgets/controls",
                        "_view_module_version": "1.5.0",
                        "_view_name": "ProgressView",
                        "bar_style": "success",
                        "description": "",
                        "description_tooltip": null,
                        "layout": "IPY_MODEL_a557f80c0daa417289ed93e4b59b0013",
                        "max": 1648877,
                        "min": 0,
                        "orientation": "horizontal",
                        "style": "IPY_MODEL_be3d2ae0a3054e3e9ed443cbfe239de1",
                        "value": 1648877
                    }
                },
                "3a6bc77670bc44b7808574c25d0695f2": {
                    "model_module": "@jupyter-widgets/controls",
                    "model_name": "HTMLModel",
                    "model_module_version": "1.5.0",
                    "state": {
                        "_dom_classes": [],
                        "_model_module": "@jupyter-widgets/controls",
                        "_model_module_version": "1.5.0",
                        "_model_name": "HTMLModel",
                        "_view_count": null,
                        "_view_module": "@jupyter-widgets/controls",
                        "_view_module_version": "1.5.0",
                        "_view_name": "HTMLView",
                        "description": "",
                        "description_tooltip": null,
                        "layout": "IPY_MODEL_dc08d406c0a64799a8abf34ba38ff4e7",
                        "placeholder": "​",
                        "style": "IPY_MODEL_d3c95004a2264eca8eb7d66820e6677b",
                        "value": " 1649664/? [00:00&lt;00:00, 26349592.96it/s]"
                    }
                },
                "3295d5f668aa432fb99010c509d15648": {
                    "model_module": "@jupyter-widgets/base",
                    "model_name": "LayoutModel",
                    "model_module_version": "1.2.0",
                    "state": {
                        "_model_module": "@jupyter-widgets/base",
                        "_model_module_version": "1.2.0",
                        "_model_name": "LayoutModel",
                        "_view_count": null,
                        "_view_module": "@jupyter-widgets/base",
                        "_view_module_version": "1.2.0",
                        "_view_name": "LayoutView",
                        "align_content": null,
                        "align_items": null,
                        "align_self": null,
                        "border": null,
                        "bottom": null,
                        "display": null,
                        "flex": null,
                        "flex_flow": null,
                        "grid_area": null,
                        "grid_auto_columns": null,
                        "grid_auto_flow": null,
                        "grid_auto_rows": null,
                        "grid_column": null,
                        "grid_gap": null,
                        "grid_row": null,
                        "grid_template_areas": null,
                        "grid_template_columns": null,
                        "grid_template_rows": null,
                        "height": null,
                        "justify_content": null,
                        "justify_items": null,
                        "left": null,
                        "margin": null,
                        "max_height": null,
                        "max_width": null,
                        "min_height": null,
                        "min_width": null,
                        "object_fit": null,
                        "object_position": null,
                        "order": null,
                        "overflow": null,
                        "overflow_x": null,
                        "overflow_y": null,
                        "padding": null,
                        "right": null,
                        "top": null,
                        "visibility": null,
                        "width": null
                    }
                },
                "49029fa54ff145aaa4a5ab3ed10e23a8": {
                    "model_module": "@jupyter-widgets/base",
                    "model_name": "LayoutModel",
                    "model_module_version": "1.2.0",
                    "state": {
                        "_model_module": "@jupyter-widgets/base",
                        "_model_module_version": "1.2.0",
                        "_model_name": "LayoutModel",
                        "_view_count": null,
                        "_view_module": "@jupyter-widgets/base",
                        "_view_module_version": "1.2.0",
                        "_view_name": "LayoutView",
                        "align_content": null,
                        "align_items": null,
                        "align_self": null,
                        "border": null,
                        "bottom": null,
                        "display": null,
                        "flex": null,
                        "flex_flow": null,
                        "grid_area": null,
                        "grid_auto_columns": null,
                        "grid_auto_flow": null,
                        "grid_auto_rows": null,
                        "grid_column": null,
                        "grid_gap": null,
                        "grid_row": null,
                        "grid_template_areas": null,
                        "grid_template_columns": null,
                        "grid_template_rows": null,
                        "height": null,
                        "justify_content": null,
                        "justify_items": null,
                        "left": null,
                        "margin": null,
                        "max_height": null,
                        "max_width": null,
                        "min_height": null,
                        "min_width": null,
                        "object_fit": null,
                        "object_position": null,
                        "order": null,
                        "overflow": null,
                        "overflow_x": null,
                        "overflow_y": null,
                        "padding": null,
                        "right": null,
                        "top": null,
                        "visibility": null,
                        "width": null
                    }
                },
                "7bf6b6bfbde4446bb7a57c6ca90c4bbf": {
                    "model_module": "@jupyter-widgets/controls",
                    "model_name": "DescriptionStyleModel",
                    "model_module_version": "1.5.0",
                    "state": {
                        "_model_module": "@jupyter-widgets/controls",
                        "_model_module_version": "1.5.0",
                        "_model_name": "DescriptionStyleModel",
                        "_view_count": null,
                        "_view_module": "@jupyter-widgets/base",
                        "_view_module_version": "1.2.0",
                        "_view_name": "StyleView",
                        "description_width": ""
                    }
                },
                "a557f80c0daa417289ed93e4b59b0013": {
                    "model_module": "@jupyter-widgets/base",
                    "model_name": "LayoutModel",
                    "model_module_version": "1.2.0",
                    "state": {
                        "_model_module": "@jupyter-widgets/base",
                        "_model_module_version": "1.2.0",
                        "_model_name": "LayoutModel",
                        "_view_count": null,
                        "_view_module": "@jupyter-widgets/base",
                        "_view_module_version": "1.2.0",
                        "_view_name": "LayoutView",
                        "align_content": null,
                        "align_items": null,
                        "align_self": null,
                        "border": null,
                        "bottom": null,
                        "display": null,
                        "flex": null,
                        "flex_flow": null,
                        "grid_area": null,
                        "grid_auto_columns": null,
                        "grid_auto_flow": null,
                        "grid_auto_rows": null,
                        "grid_column": null,
                        "grid_gap": null,
                        "grid_row": null,
                        "grid_template_areas": null,
                        "grid_template_columns": null,
                        "grid_template_rows": null,
                        "height": null,
                        "justify_content": null,
                        "justify_items": null,
                        "left": null,
                        "margin": null,
                        "max_height": null,
                        "max_width": null,
                        "min_height": null,
                        "min_width": null,
                        "object_fit": null,
                        "object_position": null,
                        "order": null,
                        "overflow": null,
                        "overflow_x": null,
                        "overflow_y": null,
                        "padding": null,
                        "right": null,
                        "top": null,
                        "visibility": null,
                        "width": null
                    }
                },
                "be3d2ae0a3054e3e9ed443cbfe239de1": {
                    "model_module": "@jupyter-widgets/controls",
                    "model_name": "ProgressStyleModel",
                    "model_module_version": "1.5.0",
                    "state": {
                        "_model_module": "@jupyter-widgets/controls",
                        "_model_module_version": "1.5.0",
                        "_model_name": "ProgressStyleModel",
                        "_view_count": null,
                        "_view_module": "@jupyter-widgets/base",
                        "_view_module_version": "1.2.0",
                        "_view_name": "StyleView",
                        "bar_color": null,
                        "description_width": ""
                    }
                },
                "dc08d406c0a64799a8abf34ba38ff4e7": {
                    "model_module": "@jupyter-widgets/base",
                    "model_name": "LayoutModel",
                    "model_module_version": "1.2.0",
                    "state": {
                        "_model_module": "@jupyter-widgets/base",
                        "_model_module_version": "1.2.0",
                        "_model_name": "LayoutModel",
                        "_view_count": null,
                        "_view_module": "@jupyter-widgets/base",
                        "_view_module_version": "1.2.0",
                        "_view_name": "LayoutView",
                        "align_content": null,
                        "align_items": null,
                        "align_self": null,
                        "border": null,
                        "bottom": null,
                        "display": null,
                        "flex": null,
                        "flex_flow": null,
                        "grid_area": null,
                        "grid_auto_columns": null,
                        "grid_auto_flow": null,
                        "grid_auto_rows": null,
                        "grid_column": null,
                        "grid_gap": null,
                        "grid_row": null,
                        "grid_template_areas": null,
                        "grid_template_columns": null,
                        "grid_template_rows": null,
                        "height": null,
                        "justify_content": null,
                        "justify_items": null,
                        "left": null,
                        "margin": null,
                        "max_height": null,
                        "max_width": null,
                        "min_height": null,
                        "min_width": null,
                        "object_fit": null,
                        "object_position": null,
                        "order": null,
                        "overflow": null,
                        "overflow_x": null,
                        "overflow_y": null,
                        "padding": null,
                        "right": null,
                        "top": null,
                        "visibility": null,
                        "width": null
                    }
                },
                "d3c95004a2264eca8eb7d66820e6677b": {
                    "model_module": "@jupyter-widgets/controls",
                    "model_name": "DescriptionStyleModel",
                    "model_module_version": "1.5.0",
                    "state": {
                        "_model_module": "@jupyter-widgets/controls",
                        "_model_module_version": "1.5.0",
                        "_model_name": "DescriptionStyleModel",
                        "_view_count": null,
                        "_view_module": "@jupyter-widgets/base",
                        "_view_module_version": "1.2.0",
                        "_view_name": "StyleView",
                        "description_width": ""
                    }
                },
                "a5069dd3666e40c5b5c424d6b1125e39": {
                    "model_module": "@jupyter-widgets/controls",
                    "model_name": "HBoxModel",
                    "model_module_version": "1.5.0",
                    "state": {
                        "_dom_classes": [],
                        "_model_module": "@jupyter-widgets/controls",
                        "_model_module_version": "1.5.0",
                        "_model_name": "HBoxModel",
                        "_view_count": null,
                        "_view_module": "@jupyter-widgets/controls",
                        "_view_module_version": "1.5.0",
                        "_view_name": "HBoxView",
                        "box_style": "",
                        "children": [
                            "IPY_MODEL_5450aae0479c43708504b640368785ea",
                            "IPY_MODEL_9cc179ea918e484e8697be0b9fdcae42",
                            "IPY_MODEL_6561fb71cfd3442294ff61e42f786474"
                        ],
                        "layout": "IPY_MODEL_84418fdbb9e1441c87b401fc40c27b43"
                    }
                },
                "5450aae0479c43708504b640368785ea": {
                    "model_module": "@jupyter-widgets/controls",
                    "model_name": "HTMLModel",
                    "model_module_version": "1.5.0",
                    "state": {
                        "_dom_classes": [],
                        "_model_module": "@jupyter-widgets/controls",
                        "_model_module_version": "1.5.0",
                        "_model_name": "HTMLModel",
                        "_view_count": null,
                        "_view_module": "@jupyter-widgets/controls",
                        "_view_module_version": "1.5.0",
                        "_view_name": "HTMLView",
                        "description": "",
                        "description_tooltip": null,
                        "layout": "IPY_MODEL_fade0814e3544f2fb614640cd0c7269e",
                        "placeholder": "​",
                        "style": "IPY_MODEL_d64e82330b434e8ca5a5efdcc54ee65e",
                        "value": ""
                    }
                },
                "9cc179ea918e484e8697be0b9fdcae42": {
                    "model_module": "@jupyter-widgets/controls",
                    "model_name": "FloatProgressModel",
                    "model_module_version": "1.5.0",
                    "state": {
                        "_dom_classes": [],
                        "_model_module": "@jupyter-widgets/controls",
                        "_model_module_version": "1.5.0",
                        "_model_name": "FloatProgressModel",
                        "_view_count": null,
                        "_view_module": "@jupyter-widgets/controls",
                        "_view_module_version": "1.5.0",
                        "_view_name": "ProgressView",
                        "bar_style": "success",
                        "description": "",
                        "description_tooltip": null,
                        "layout": "IPY_MODEL_37bcbee9135d4dcc8af2cc6a4884d279",
                        "max": 4542,
                        "min": 0,
                        "orientation": "horizontal",
                        "style": "IPY_MODEL_a547a5a33a5f439d894272ff25f65bf7",
                        "value": 4542
                    }
                },
                "6561fb71cfd3442294ff61e42f786474": {
                    "model_module": "@jupyter-widgets/controls",
                    "model_name": "HTMLModel",
                    "model_module_version": "1.5.0",
                    "state": {
                        "_dom_classes": [],
                        "_model_module": "@jupyter-widgets/controls",
                        "_model_module_version": "1.5.0",
                        "_model_name": "HTMLModel",
                        "_view_count": null,
                        "_view_module": "@jupyter-widgets/controls",
                        "_view_module_version": "1.5.0",
                        "_view_name": "HTMLView",
                        "description": "",
                        "description_tooltip": null,
                        "layout": "IPY_MODEL_921598b3387b474aad9db8d5690cf9dd",
                        "placeholder": "​",
                        "style": "IPY_MODEL_a0616cbba5924c8ca5f3e6cb9ff123c8",
                        "value": " 5120/? [00:00&lt;00:00, 215002.07it/s]"
                    }
                },
                "84418fdbb9e1441c87b401fc40c27b43": {
                    "model_module": "@jupyter-widgets/base",
                    "model_name": "LayoutModel",
                    "model_module_version": "1.2.0",
                    "state": {
                        "_model_module": "@jupyter-widgets/base",
                        "_model_module_version": "1.2.0",
                        "_model_name": "LayoutModel",
                        "_view_count": null,
                        "_view_module": "@jupyter-widgets/base",
                        "_view_module_version": "1.2.0",
                        "_view_name": "LayoutView",
                        "align_content": null,
                        "align_items": null,
                        "align_self": null,
                        "border": null,
                        "bottom": null,
                        "display": null,
                        "flex": null,
                        "flex_flow": null,
                        "grid_area": null,
                        "grid_auto_columns": null,
                        "grid_auto_flow": null,
                        "grid_auto_rows": null,
                        "grid_column": null,
                        "grid_gap": null,
                        "grid_row": null,
                        "grid_template_areas": null,
                        "grid_template_columns": null,
                        "grid_template_rows": null,
                        "height": null,
                        "justify_content": null,
                        "justify_items": null,
                        "left": null,
                        "margin": null,
                        "max_height": null,
                        "max_width": null,
                        "min_height": null,
                        "min_width": null,
                        "object_fit": null,
                        "object_position": null,
                        "order": null,
                        "overflow": null,
                        "overflow_x": null,
                        "overflow_y": null,
                        "padding": null,
                        "right": null,
                        "top": null,
                        "visibility": null,
                        "width": null
                    }
                },
                "fade0814e3544f2fb614640cd0c7269e": {
                    "model_module": "@jupyter-widgets/base",
                    "model_name": "LayoutModel",
                    "model_module_version": "1.2.0",
                    "state": {
                        "_model_module": "@jupyter-widgets/base",
                        "_model_module_version": "1.2.0",
                        "_model_name": "LayoutModel",
                        "_view_count": null,
                        "_view_module": "@jupyter-widgets/base",
                        "_view_module_version": "1.2.0",
                        "_view_name": "LayoutView",
                        "align_content": null,
                        "align_items": null,
                        "align_self": null,
                        "border": null,
                        "bottom": null,
                        "display": null,
                        "flex": null,
                        "flex_flow": null,
                        "grid_area": null,
                        "grid_auto_columns": null,
                        "grid_auto_flow": null,
                        "grid_auto_rows": null,
                        "grid_column": null,
                        "grid_gap": null,
                        "grid_row": null,
                        "grid_template_areas": null,
                        "grid_template_columns": null,
                        "grid_template_rows": null,
                        "height": null,
                        "justify_content": null,
                        "justify_items": null,
                        "left": null,
                        "margin": null,
                        "max_height": null,
                        "max_width": null,
                        "min_height": null,
                        "min_width": null,
                        "object_fit": null,
                        "object_position": null,
                        "order": null,
                        "overflow": null,
                        "overflow_x": null,
                        "overflow_y": null,
                        "padding": null,
                        "right": null,
                        "top": null,
                        "visibility": null,
                        "width": null
                    }
                },
                "d64e82330b434e8ca5a5efdcc54ee65e": {
                    "model_module": "@jupyter-widgets/controls",
                    "model_name": "DescriptionStyleModel",
                    "model_module_version": "1.5.0",
                    "state": {
                        "_model_module": "@jupyter-widgets/controls",
                        "_model_module_version": "1.5.0",
                        "_model_name": "DescriptionStyleModel",
                        "_view_count": null,
                        "_view_module": "@jupyter-widgets/base",
                        "_view_module_version": "1.2.0",
                        "_view_name": "StyleView",
                        "description_width": ""
                    }
                },
                "37bcbee9135d4dcc8af2cc6a4884d279": {
                    "model_module": "@jupyter-widgets/base",
                    "model_name": "LayoutModel",
                    "model_module_version": "1.2.0",
                    "state": {
                        "_model_module": "@jupyter-widgets/base",
                        "_model_module_version": "1.2.0",
                        "_model_name": "LayoutModel",
                        "_view_count": null,
                        "_view_module": "@jupyter-widgets/base",
                        "_view_module_version": "1.2.0",
                        "_view_name": "LayoutView",
                        "align_content": null,
                        "align_items": null,
                        "align_self": null,
                        "border": null,
                        "bottom": null,
                        "display": null,
                        "flex": null,
                        "flex_flow": null,
                        "grid_area": null,
                        "grid_auto_columns": null,
                        "grid_auto_flow": null,
                        "grid_auto_rows": null,
                        "grid_column": null,
                        "grid_gap": null,
                        "grid_row": null,
                        "grid_template_areas": null,
                        "grid_template_columns": null,
                        "grid_template_rows": null,
                        "height": null,
                        "justify_content": null,
                        "justify_items": null,
                        "left": null,
                        "margin": null,
                        "max_height": null,
                        "max_width": null,
                        "min_height": null,
                        "min_width": null,
                        "object_fit": null,
                        "object_position": null,
                        "order": null,
                        "overflow": null,
                        "overflow_x": null,
                        "overflow_y": null,
                        "padding": null,
                        "right": null,
                        "top": null,
                        "visibility": null,
                        "width": null
                    }
                },
                "a547a5a33a5f439d894272ff25f65bf7": {
                    "model_module": "@jupyter-widgets/controls",
                    "model_name": "ProgressStyleModel",
                    "model_module_version": "1.5.0",
                    "state": {
                        "_model_module": "@jupyter-widgets/controls",
                        "_model_module_version": "1.5.0",
                        "_model_name": "ProgressStyleModel",
                        "_view_count": null,
                        "_view_module": "@jupyter-widgets/base",
                        "_view_module_version": "1.2.0",
                        "_view_name": "StyleView",
                        "bar_color": null,
                        "description_width": ""
                    }
                },
                "921598b3387b474aad9db8d5690cf9dd": {
                    "model_module": "@jupyter-widgets/base",
                    "model_name": "LayoutModel",
                    "model_module_version": "1.2.0",
                    "state": {
                        "_model_module": "@jupyter-widgets/base",
                        "_model_module_version": "1.2.0",
                        "_model_name": "LayoutModel",
                        "_view_count": null,
                        "_view_module": "@jupyter-widgets/base",
                        "_view_module_version": "1.2.0",
                        "_view_name": "LayoutView",
                        "align_content": null,
                        "align_items": null,
                        "align_self": null,
                        "border": null,
                        "bottom": null,
                        "display": null,
                        "flex": null,
                        "flex_flow": null,
                        "grid_area": null,
                        "grid_auto_columns": null,
                        "grid_auto_flow": null,
                        "grid_auto_rows": null,
                        "grid_column": null,
                        "grid_gap": null,
                        "grid_row": null,
                        "grid_template_areas": null,
                        "grid_template_columns": null,
                        "grid_template_rows": null,
                        "height": null,
                        "justify_content": null,
                        "justify_items": null,
                        "left": null,
                        "margin": null,
                        "max_height": null,
                        "max_width": null,
                        "min_height": null,
                        "min_width": null,
                        "object_fit": null,
                        "object_position": null,
                        "order": null,
                        "overflow": null,
                        "overflow_x": null,
                        "overflow_y": null,
                        "padding": null,
                        "right": null,
                        "top": null,
                        "visibility": null,
                        "width": null
                    }
                },
                "a0616cbba5924c8ca5f3e6cb9ff123c8": {
                    "model_module": "@jupyter-widgets/controls",
                    "model_name": "DescriptionStyleModel",
                    "model_module_version": "1.5.0",
                    "state": {
                        "_model_module": "@jupyter-widgets/controls",
                        "_model_module_version": "1.5.0",
                        "_model_name": "DescriptionStyleModel",
                        "_view_count": null,
                        "_view_module": "@jupyter-widgets/base",
                        "_view_module_version": "1.2.0",
                        "_view_name": "StyleView",
                        "description_width": ""
                    }
                }
            }
        }
    },
    "cells": [
        {
            "cell_type": "markdown",
            "source": [
                "[![Open In Colab](https://colab.research.google.com/assets/colab-badge.svg)](https://colab.research.google.com/github/shhommychon/mnist_generative_practice/blob/master/PretrainedClassfier.ipynb)"
            ],
            "metadata": {
                "id": "xrkfb3CUj5Da"
            }
        },
        {
            "cell_type": "markdown",
            "source": [
                "# MNIST 분류기 사전학습"
            ],
            "metadata": {
                "id": "5cuhlN6rj8OG"
            }
        },
        {
            "cell_type": "markdown",
            "source": [
                "## 환경설정\n",
                "\n",
                "- PyTorch 버젼 다운그레이드 코드로 인해 세션이 자동으로 한번 꺼질 예정입니다. 다시 실행하면 됩니다."
            ],
            "metadata": {
                "id": "9QLQMzLhkGZr"
            }
        },
        {
            "cell_type": "code",
            "source": [
                "# 현 CUDA 버젼 확인\n",
                "!nvcc --version"
            ],
            "metadata": {
                "colab": {
                    "base_uri": "https://localhost:8080/"
                },
                "id": "G3bw5rP_aYC0",
                "executionInfo": {
                    "status": "ok",
                    "timestamp": 0,
                    "user_tz": -540,
                    "elapsed": 833,
                    "user": {
                        "displayName": "",
                        "userId": ""
                    }
                },
                "outputId": "f269c008-1844-463c-f995-31a4590bd8ac"
            },
            "execution_count": 1,
            "outputs": [
                {
                    "output_type": "stream",
                    "name": "stdout",
                    "text": [
                        "nvcc: NVIDIA (R) Cuda compiler driver\n",
                        "Copyright (c) 2005-2023 NVIDIA Corporation\n",
                        "Built on Tue_Aug_15_22:02:13_PDT_2023\n",
                        "Cuda compilation tools, release 12.2, V12.2.140\n",
                        "Build cuda_12.2.r12.2/compiler.33191640_0\n"
                    ]
                }
            ]
        },
        {
            "cell_type": "code",
            "execution_count": 2,
            "metadata": {
                "colab": {
                    "base_uri": "https://localhost:8080/"
                },
                "id": "Eqd2cPUMaUTw",
                "executionInfo": {
                    "status": "ok",
                    "timestamp": 0,
                    "user_tz": -540,
                    "elapsed": 2,
                    "user": {
                        "displayName": "",
                        "userId": ""
                    }
                },
                "outputId": "ac67fd6f-5edb-4fc0-e1f0-a9997ce099b8"
            },
            "outputs": [
                {
                    "output_type": "stream",
                    "name": "stdout",
                    "text": [
                        "PyTorch version is already 1.11.0\n"
                    ]
                }
            ],
            "source": [
                "# 파이썬 버젼 고정\n",
                "import torch\n",
                "\n",
                "# 현 PyTorch 버젼 확인\n",
                "if torch.__version__.split('+')[0] != \"1.11.0\":\n",
                "    print(f\"Current PyTorch version is {torch.__version__}, downgrading to 1.11.0\")\n",
                "\n",
                "    # PyTorch 제거\n",
                "    !pip uninstall torch torchvision -y\n",
                "\n",
                "    # PyTorch 1.11.0 설치\n",
                "    !pip install torch==1.11.0 torchvision==0.12.0 -f https://download.pytorch.org/whl/cu111/torch_stable.html\n",
                "\n",
                "    # 런타임 강제 재시작\n",
                "    import os\n",
                "    os.kill(os.getpid(), 9)\n",
                "else:\n",
                "    print(\"PyTorch version is already 1.11.0\")"
            ]
        },
        {
            "cell_type": "code",
            "source": [
                "!git clone https://github.com/shhommychon/mnist_generative_practice.git\n",
                "\n",
                "import sys\n",
                "sys.path = [\"./mnist_generative_practice\"] + sys.path"
            ],
            "metadata": {
                "id": "F9rki2Y8nDCV",
                "executionInfo": {
                    "status": "ok",
                    "timestamp": 0,
                    "user_tz": -540,
                    "elapsed": 390,
                    "user": {
                        "displayName": "",
                        "userId": ""
                    }
                },
                "colab": {
                    "base_uri": "https://localhost:8080/"
                },
                "outputId": "ee30bc3d-2b5e-461b-e11c-91c4fb47c6e1"
            },
            "execution_count": 3,
            "outputs": [
                {
                    "output_type": "stream",
                    "name": "stdout",
                    "text": [
                        "Cloning into 'mnist_generative_practice'...\n",
                        "remote: Enumerating objects: 16, done.\u001b[K\n",
                        "remote: Counting objects: 100% (16/16), done.\u001b[K\n",
                        "remote: Compressing objects: 100% (11/11), done.\u001b[K\n",
                        "remote: Total 16 (delta 4), reused 15 (delta 3), pack-reused 0\u001b[K\n",
                        "Receiving objects: 100% (16/16), 7.91 KiB | 7.91 MiB/s, done.\n",
                        "Resolving deltas: 100% (4/4), done.\n"
                    ]
                }
            ]
        },
        {
            "cell_type": "markdown",
            "source": [
                "## 실습 코드\n",
                "- 원본 코드: [devnson/mnist_pytorch](https://github.com/devnson/mnist_pytorch)"
            ],
            "metadata": {
                "id": "u4HGqSz3kW6_"
            }
        },
        {
            "cell_type": "code",
            "source": [
                "import torch\n",
                "import torch.nn as nn\n",
                "import torch.nn.functional as F\n",
                "\n",
                "from torchvision import transforms\n",
                "import torchvision.datasets as datasets\n",
                "\n",
                "import numpy as np"
            ],
            "metadata": {
                "id": "VNQcucD1eSbI",
                "executionInfo": {
                    "status": "ok",
                    "timestamp": 0,
                    "user_tz": -540,
                    "elapsed": 390,
                    "user": {
                        "displayName": "",
                        "userId": ""
                    }
                }
            },
            "execution_count": 4,
            "outputs": []
        },
        {
            "cell_type": "markdown",
            "source": [
                "### MNIST 데이터셋 다운로드 및 불러오기\n",
                "\n",
                "- 다운로드 코드 원본: [devnson/mnist_pytorch](https://github.com/devnson/mnist_pytorch?tab=readme-ov-file#downloading-datasets)\n",
                "- 불러오기 코드 원본: [devnson/mnist_pytorch](https://github.com/devnson/mnist_pytorch?tab=readme-ov-file#splitting-datasets)\n"
            ],
            "metadata": {
                "id": "wfILDRG0oKxY"
            }
        },
        {
            "cell_type": "code",
            "source": [
                "mnist_trainset = datasets.MNIST(root='./data', train=True, download=True,\n",
                "                      transform=transforms.Compose([transforms.ToTensor()]))\n",
                "mnist_testset = datasets.MNIST(root='./data', train=False, download=True,\n",
                "                      transform=transforms.Compose([transforms.ToTensor()]))\n",
                "\n",
                "mnist_valset, mnist_testset = torch.utils.data.random_split(\n",
                "                                mnist_testset,\n",
                "                                [\n",
                "                                    int(0.9 * len(mnist_testset)),\n",
                "                                    int(0.1 * len(mnist_testset))\n",
                "                                ]\n",
                "                            )\n",
                "train_dataloader = torch.utils.data.DataLoader(mnist_trainset, batch_size=64, shuffle=True)\n",
                "val_dataloader = torch.utils.data.DataLoader(mnist_valset, batch_size=32, shuffle=False)\n",
                "test_dataloader = torch.utils.data.DataLoader(mnist_testset, batch_size=32, shuffle=False)\n",
                "\n",
                "print(\"Training dataset size: \", len(mnist_trainset))\n",
                "print(\"Validation dataset size: \", len(mnist_valset))\n",
                "print(\"Testing dataset size: \", len(mnist_testset))"
            ],
            "metadata": {
                "colab": {
                    "base_uri": "https://localhost:8080/",
                    "height": 484,
                    "referenced_widgets": [
                        "072816ced3344b64b2758d8bad5e8104",
                        "4b1fe13c6da04d819f05798d75964129",
                        "264e6961713147fab3d461bc953f4e22",
                        "ac288737d06f497f893dd25eb421bb7e",
                        "2b40fd4ee70f4da3820146f8c9a9b55f",
                        "fb10143a7a964c429a625635b41de7ac",
                        "451dc1fc91bc464d9cbeb082cf4fb65c",
                        "4732787dcb7a45f7a21dea9e685ec621",
                        "14a6ac9715f7428595480be187c157bb",
                        "f286920402c3472db59cb3f414a81dd1",
                        "8a81945dfc7d4efdabd1cf086a4c7dd2",
                        "abf421e5c80049b6a05a906735dce8d4",
                        "39642085391c451c94871b7efa88aa65",
                        "28f58341f7bb43348516865f5af00c5e",
                        "7aa1682814d84f818cbbb420fced8008",
                        "191bdb54e71f4f53ba2342e750d749ea",
                        "770e50ff74c94ba2aa153cdc7dfe931e",
                        "e913d78dfc884c7aa5dc765f9bc3e85c",
                        "16f00f7c4b7c4b118e6d9366088fc79b",
                        "0521a14058654114bd65f66ac71d4e89",
                        "d98db837fd3841e089b5f868975d4174",
                        "2cc2442b4a0541b08d506c29578f32cb",
                        "b2b3cdc43ba0491392726a6572053ce9",
                        "23e2d00d6f854675a5940288b28712cf",
                        "a436a2e086b840f4adb8ae63ea0408f6",
                        "3a6bc77670bc44b7808574c25d0695f2",
                        "3295d5f668aa432fb99010c509d15648",
                        "49029fa54ff145aaa4a5ab3ed10e23a8",
                        "7bf6b6bfbde4446bb7a57c6ca90c4bbf",
                        "a557f80c0daa417289ed93e4b59b0013",
                        "be3d2ae0a3054e3e9ed443cbfe239de1",
                        "dc08d406c0a64799a8abf34ba38ff4e7",
                        "d3c95004a2264eca8eb7d66820e6677b",
                        "a5069dd3666e40c5b5c424d6b1125e39",
                        "5450aae0479c43708504b640368785ea",
                        "9cc179ea918e484e8697be0b9fdcae42",
                        "6561fb71cfd3442294ff61e42f786474",
                        "84418fdbb9e1441c87b401fc40c27b43",
                        "fade0814e3544f2fb614640cd0c7269e",
                        "d64e82330b434e8ca5a5efdcc54ee65e",
                        "37bcbee9135d4dcc8af2cc6a4884d279",
                        "a547a5a33a5f439d894272ff25f65bf7",
                        "921598b3387b474aad9db8d5690cf9dd",
                        "a0616cbba5924c8ca5f3e6cb9ff123c8"
                    ]
                },
                "id": "4bhujFHxekYn",
                "executionInfo": {
                    "status": "ok",
                    "timestamp": 0,
                    "user_tz": -540,
                    "elapsed": 1368,
                    "user": {
                        "displayName": "",
                        "userId": ""
                    }
                },
                "outputId": "5e1de12c-3700-4634-ae48-20644ee1762a"
            },
            "execution_count": 5,
            "outputs": [
                {
                    "output_type": "stream",
                    "name": "stdout",
                    "text": [
                        "Downloading http://yann.lecun.com/exdb/mnist/train-images-idx3-ubyte.gz\n",
                        "Downloading http://yann.lecun.com/exdb/mnist/train-images-idx3-ubyte.gz to ./data/MNIST/raw/train-images-idx3-ubyte.gz\n"
                    ]
                },
                {
                    "output_type": "display_data",
                    "data": {
                        "text/plain": [
                            "  0%|          | 0/9912422 [00:00<?, ?it/s]"
                        ],
                        "application/vnd.jupyter.widget-view+json": {
                            "version_major": 2,
                            "version_minor": 0,
                            "model_id": "072816ced3344b64b2758d8bad5e8104"
                        }
                    },
                    "metadata": {}
                },
                {
                    "output_type": "stream",
                    "name": "stdout",
                    "text": [
                        "Extracting ./data/MNIST/raw/train-images-idx3-ubyte.gz to ./data/MNIST/raw\n",
                        "\n",
                        "Downloading http://yann.lecun.com/exdb/mnist/train-labels-idx1-ubyte.gz\n",
                        "Downloading http://yann.lecun.com/exdb/mnist/train-labels-idx1-ubyte.gz to ./data/MNIST/raw/train-labels-idx1-ubyte.gz\n"
                    ]
                },
                {
                    "output_type": "display_data",
                    "data": {
                        "text/plain": [
                            "  0%|          | 0/28881 [00:00<?, ?it/s]"
                        ],
                        "application/vnd.jupyter.widget-view+json": {
                            "version_major": 2,
                            "version_minor": 0,
                            "model_id": "abf421e5c80049b6a05a906735dce8d4"
                        }
                    },
                    "metadata": {}
                },
                {
                    "output_type": "stream",
                    "name": "stdout",
                    "text": [
                        "Extracting ./data/MNIST/raw/train-labels-idx1-ubyte.gz to ./data/MNIST/raw\n",
                        "\n",
                        "Downloading http://yann.lecun.com/exdb/mnist/t10k-images-idx3-ubyte.gz\n",
                        "Downloading http://yann.lecun.com/exdb/mnist/t10k-images-idx3-ubyte.gz to ./data/MNIST/raw/t10k-images-idx3-ubyte.gz\n"
                    ]
                },
                {
                    "output_type": "display_data",
                    "data": {
                        "text/plain": [
                            "  0%|          | 0/1648877 [00:00<?, ?it/s]"
                        ],
                        "application/vnd.jupyter.widget-view+json": {
                            "version_major": 2,
                            "version_minor": 0,
                            "model_id": "b2b3cdc43ba0491392726a6572053ce9"
                        }
                    },
                    "metadata": {}
                },
                {
                    "output_type": "stream",
                    "name": "stdout",
                    "text": [
                        "Extracting ./data/MNIST/raw/t10k-images-idx3-ubyte.gz to ./data/MNIST/raw\n",
                        "\n",
                        "Downloading http://yann.lecun.com/exdb/mnist/t10k-labels-idx1-ubyte.gz\n",
                        "Downloading http://yann.lecun.com/exdb/mnist/t10k-labels-idx1-ubyte.gz to ./data/MNIST/raw/t10k-labels-idx1-ubyte.gz\n"
                    ]
                },
                {
                    "output_type": "display_data",
                    "data": {
                        "text/plain": [
                            "  0%|          | 0/4542 [00:00<?, ?it/s]"
                        ],
                        "application/vnd.jupyter.widget-view+json": {
                            "version_major": 2,
                            "version_minor": 0,
                            "model_id": "a5069dd3666e40c5b5c424d6b1125e39"
                        }
                    },
                    "metadata": {}
                },
                {
                    "output_type": "stream",
                    "name": "stdout",
                    "text": [
                        "Extracting ./data/MNIST/raw/t10k-labels-idx1-ubyte.gz to ./data/MNIST/raw\n",
                        "\n",
                        "Training dataset size:  60000\n",
                        "Validation dataset size:  9000\n",
                        "Testing dataset size:  1000\n"
                    ]
                }
            ]
        },
        {
            "cell_type": "markdown",
            "source": [
                "### 모델 및 손실함수/옵티마이저 등 설정"
            ],
            "metadata": {
                "id": "rmRZ1tPjowzm"
            }
        },
        {
            "cell_type": "code",
            "source": [
                "from models.classifier import ConvFeatExtractor, SoftDropout, ClassifierHead, MNISTClassifier\n",
                "\n",
                "model = MNISTClassifier()\n",
                "\n",
                "if (torch.cuda.is_available()): model.cuda()\n",
                "\n",
                "model"
            ],
            "metadata": {
                "id": "c3_nlyuWeo6E",
                "executionInfo": {
                    "status": "ok",
                    "timestamp": 0,
                    "user_tz": -540,
                    "elapsed": 5645,
                    "user": {
                        "displayName": "",
                        "userId": ""
                    }
                },
                "colab": {
                    "base_uri": "https://localhost:8080/"
                },
                "outputId": "c84a23f8-6358-41c5-a062-bf01bec42b1b"
            },
            "execution_count": 6,
            "outputs": [
                {
                    "output_type": "execute_result",
                    "data": {
                        "text/plain": [
                            "MNISTClassifier(\n",
                            "  (feature_extractor): ConvFeatExtractor(\n",
                            "    (conv_1): Conv2d(1, 32, kernel_size=(3, 3), stride=(1, 1), padding=(1, 1))\n",
                            "    (conv_2): Conv2d(32, 64, kernel_size=(3, 3), stride=(1, 1), padding=(1, 1))\n",
                            "    (max_pool2d): MaxPool2d(kernel_size=2, stride=2, padding=0, dilation=1, ceil_mode=False)\n",
                            "    (linear): Linear(in_features=3136, out_features=128, bias=True)\n",
                            "    (batch_norm): BatchNorm1d(128, eps=1e-05, momentum=0.1, affine=True, track_running_stats=True)\n",
                            "    (dropout): Dropout(p=0.5, inplace=False)\n",
                            "    (relu): ReLU()\n",
                            "  )\n",
                            "  (classifier): ClassifierHead(\n",
                            "    (dropout): SoftDropout(\n",
                            "      (dropouts): ModuleList(\n",
                            "        (0): Dropout(p=0.5, inplace=False)\n",
                            "        (1): Dropout(p=0.5, inplace=False)\n",
                            "        (2): Dropout(p=0.5, inplace=False)\n",
                            "        (3): Dropout(p=0.5, inplace=False)\n",
                            "        (4): Dropout(p=0.5, inplace=False)\n",
                            "      )\n",
                            "    )\n",
                            "    (relu): ReLU()\n",
                            "    (linear): Linear(in_features=128, out_features=10, bias=True)\n",
                            "  )\n",
                            ")"
                        ]
                    },
                    "metadata": {},
                    "execution_count": 6
                }
            ]
        },
        {
            "cell_type": "code",
            "source": [
                "loss = nn.CrossEntropyLoss()\n",
                "optimizer = torch.optim.Adam(model.parameters(), lr=0.001)\n",
                "\n",
                "max_epochs = 100\n",
                "best_val_loss = 100\n",
                "max_patience = 3"
            ],
            "metadata": {
                "id": "scsHSzCVm78o",
                "executionInfo": {
                    "status": "ok",
                    "timestamp": 0,
                    "user_tz": -540,
                    "elapsed": 264,
                    "user": {
                        "displayName": "",
                        "userId": ""
                    }
                }
            },
            "execution_count": 7,
            "outputs": []
        },
        {
            "cell_type": "markdown",
            "source": [
                "### 모델 학습 코드\n",
                "\n",
                "- 모델 학습 코드 원본: [devnson/mnist_pytorch](https://github.com/devnson/mnist_pytorch?tab=readme-ov-file#training)"
            ],
            "metadata": {
                "id": "gBw6pWnAo0sb"
            }
        },
        {
            "cell_type": "code",
            "source": [
                "patience = max_patience\n",
                "for epoch in range(max_epochs):\n",
                "    total_train_loss = 0\n",
                "    total_val_loss = 0\n",
                "\n",
                "    model.train()\n",
                "\n",
                "    # training\n",
                "    for iter, (image, label) in enumerate(train_dataloader):\n",
                "\n",
                "        if (torch.cuda.is_available()):\n",
                "            image = image.cuda()\n",
                "            label = label.cuda()\n",
                "\n",
                "\n",
                "        # optimizing gradients to zero before training\n",
                "\n",
                "        optimizer.zero_grad()\n",
                "\n",
                "        pred = model(image)\n",
                "\n",
                "        this_train_loss = loss(pred, label)\n",
                "        total_train_loss += this_train_loss.item()\n",
                "\n",
                "        this_train_loss.backward()\n",
                "        optimizer.step()\n",
                "\n",
                "    total_train_loss = total_train_loss / (iter + 1)\n",
                "\n",
                "    # validation\n",
                "    model.eval()\n",
                "    correct = 0\n",
                "    for iter, (image, label) in enumerate(val_dataloader):\n",
                "\n",
                "        if (torch.cuda.is_available()):\n",
                "            image = image.cuda()\n",
                "            label = label.cuda()\n",
                "\n",
                "        pred = model(image)\n",
                "\n",
                "        this_val_loss = loss(pred, label)\n",
                "        total_val_loss += this_val_loss.item()\n",
                "\n",
                "        pred = F.softmax(pred, dim=1)\n",
                "        correct += (label == pred.argmax(dim=1)).sum().item()\n",
                "\n",
                "    total_val_loss = total_val_loss / (iter + 1)\n",
                "    accuracy = correct / len(mnist_valset)\n",
                "\n",
                "    print(f\"\\nEpoch: {epoch+1}/{max_epochs}, Train Loss: {total_train_loss:.8f}, Val Loss: {total_val_loss:.8f}, Val Accuracy: {accuracy:.8f}\")\n",
                "\n",
                "    if total_val_loss < best_val_loss:\n",
                "        best_val_loss = total_val_loss\n",
                "        print(f\"\\tSaving the model state dictionary for Epoch: {epoch+1} with Validation loss: {total_val_loss:.8f}\")\n",
                "        torch.save(model.feature_extractor.state_dict(), \"mnist_feature_extractor.dth\")\n",
                "        torch.save(model.classifier.state_dict(), \"mnist_classifier.dth\")\n",
                "        patience = max_patience\n",
                "    else:\n",
                "        patience -= 1\n",
                "        print(f\"\\tLoss not decreased. Will wait for {patience} more epochs...\")\n",
                "\n",
                "    if patience <= 0: break\n"
            ],
            "metadata": {
                "colab": {
                    "base_uri": "https://localhost:8080/"
                },
                "id": "ayUV-an6iPqR",
                "executionInfo": {
                    "status": "ok",
                    "timestamp": 0,
                    "user_tz": -540,
                    "elapsed": 279186,
                    "user": {
                        "displayName": "",
                        "userId": ""
                    }
                },
                "outputId": "64179648-399f-49fc-ea01-4abc88afd1c7"
            },
            "execution_count": 8,
            "outputs": [
                {
                    "output_type": "stream",
                    "name": "stdout",
                    "text": [
                        "\n",
                        "Epoch: 1/100, Train Loss: 2.28912675, Val Loss: 2.23135520, Val Accuracy: 0.29022222\n",
                        "\tSaving the model state dictionary for Epoch: 1 with Validation loss: 2.23135520\n",
                        "\n",
                        "Epoch: 2/100, Train Loss: 2.23171102, Val Loss: 2.06879649, Val Accuracy: 0.93411111\n",
                        "\tSaving the model state dictionary for Epoch: 2 with Validation loss: 2.06879649\n",
                        "\n",
                        "Epoch: 3/100, Train Loss: 2.13738816, Val Loss: 1.85302809, Val Accuracy: 0.97822222\n",
                        "\tSaving the model state dictionary for Epoch: 3 with Validation loss: 1.85302809\n",
                        "\n",
                        "Epoch: 4/100, Train Loss: 2.01617039, Val Loss: 1.61801096, Val Accuracy: 0.98377778\n",
                        "\tSaving the model state dictionary for Epoch: 4 with Validation loss: 1.61801096\n",
                        "\n",
                        "Epoch: 5/100, Train Loss: 1.87387433, Val Loss: 1.31445243, Val Accuracy: 0.98322222\n",
                        "\tSaving the model state dictionary for Epoch: 5 with Validation loss: 1.31445243\n",
                        "\n",
                        "Epoch: 6/100, Train Loss: 1.71667977, Val Loss: 1.06748210, Val Accuracy: 0.98433333\n",
                        "\tSaving the model state dictionary for Epoch: 6 with Validation loss: 1.06748210\n",
                        "\n",
                        "Epoch: 7/100, Train Loss: 1.54836517, Val Loss: 0.81496860, Val Accuracy: 0.98577778\n",
                        "\tSaving the model state dictionary for Epoch: 7 with Validation loss: 0.81496860\n",
                        "\n",
                        "Epoch: 8/100, Train Loss: 1.37480834, Val Loss: 0.60295368, Val Accuracy: 0.98466667\n",
                        "\tSaving the model state dictionary for Epoch: 8 with Validation loss: 0.60295368\n",
                        "\n",
                        "Epoch: 9/100, Train Loss: 1.20236093, Val Loss: 0.43787540, Val Accuracy: 0.98644444\n",
                        "\tSaving the model state dictionary for Epoch: 9 with Validation loss: 0.43787540\n",
                        "\n",
                        "Epoch: 10/100, Train Loss: 1.03409448, Val Loss: 0.30297682, Val Accuracy: 0.98777778\n",
                        "\tSaving the model state dictionary for Epoch: 10 with Validation loss: 0.30297682\n",
                        "\n",
                        "Epoch: 11/100, Train Loss: 0.87520802, Val Loss: 0.21113905, Val Accuracy: 0.98800000\n",
                        "\tSaving the model state dictionary for Epoch: 11 with Validation loss: 0.21113905\n",
                        "\n",
                        "Epoch: 12/100, Train Loss: 0.73217088, Val Loss: 0.14660412, Val Accuracy: 0.98866667\n",
                        "\tSaving the model state dictionary for Epoch: 12 with Validation loss: 0.14660412\n",
                        "\n",
                        "Epoch: 13/100, Train Loss: 0.60404815, Val Loss: 0.10659133, Val Accuracy: 0.98844444\n",
                        "\tSaving the model state dictionary for Epoch: 13 with Validation loss: 0.10659133\n",
                        "\n",
                        "Epoch: 14/100, Train Loss: 0.49392738, Val Loss: 0.07819714, Val Accuracy: 0.98955556\n",
                        "\tSaving the model state dictionary for Epoch: 14 with Validation loss: 0.07819714\n",
                        "\n",
                        "Epoch: 15/100, Train Loss: 0.40179932, Val Loss: 0.05931889, Val Accuracy: 0.98977778\n",
                        "\tSaving the model state dictionary for Epoch: 15 with Validation loss: 0.05931889\n",
                        "\n",
                        "Epoch: 16/100, Train Loss: 0.32485056, Val Loss: 0.04736761, Val Accuracy: 0.99088889\n",
                        "\tSaving the model state dictionary for Epoch: 16 with Validation loss: 0.04736761\n",
                        "\n",
                        "Epoch: 17/100, Train Loss: 0.26203328, Val Loss: 0.03791155, Val Accuracy: 0.99111111\n",
                        "\tSaving the model state dictionary for Epoch: 17 with Validation loss: 0.03791155\n",
                        "\n",
                        "Epoch: 18/100, Train Loss: 0.21067983, Val Loss: 0.03277898, Val Accuracy: 0.99100000\n",
                        "\tSaving the model state dictionary for Epoch: 18 with Validation loss: 0.03277898\n",
                        "\n",
                        "Epoch: 19/100, Train Loss: 0.16973867, Val Loss: 0.02989562, Val Accuracy: 0.99200000\n",
                        "\tSaving the model state dictionary for Epoch: 19 with Validation loss: 0.02989562\n",
                        "\n",
                        "Epoch: 20/100, Train Loss: 0.13729089, Val Loss: 0.02702207, Val Accuracy: 0.99222222\n",
                        "\tSaving the model state dictionary for Epoch: 20 with Validation loss: 0.02702207\n",
                        "\n",
                        "Epoch: 21/100, Train Loss: 0.11134411, Val Loss: 0.02513836, Val Accuracy: 0.99166667\n",
                        "\tSaving the model state dictionary for Epoch: 21 with Validation loss: 0.02513836\n",
                        "\n",
                        "Epoch: 22/100, Train Loss: 0.09037843, Val Loss: 0.02463769, Val Accuracy: 0.99144444\n",
                        "\tSaving the model state dictionary for Epoch: 22 with Validation loss: 0.02463769\n",
                        "\n",
                        "Epoch: 23/100, Train Loss: 0.07329053, Val Loss: 0.02345264, Val Accuracy: 0.99222222\n",
                        "\tSaving the model state dictionary for Epoch: 23 with Validation loss: 0.02345264\n",
                        "\n",
                        "Epoch: 24/100, Train Loss: 0.05972510, Val Loss: 0.02255863, Val Accuracy: 0.99277778\n",
                        "\tSaving the model state dictionary for Epoch: 24 with Validation loss: 0.02255863\n",
                        "\n",
                        "Epoch: 25/100, Train Loss: 0.04866290, Val Loss: 0.02521534, Val Accuracy: 0.99233333\n",
                        "\tLoss not decreased. Will wait for 2 more epochs...\n",
                        "\n",
                        "Epoch: 26/100, Train Loss: 0.03996223, Val Loss: 0.02478563, Val Accuracy: 0.99244444\n",
                        "\tLoss not decreased. Will wait for 1 more epochs...\n",
                        "\n",
                        "Epoch: 27/100, Train Loss: 0.03278995, Val Loss: 0.02153603, Val Accuracy: 0.99288889\n",
                        "\tSaving the model state dictionary for Epoch: 27 with Validation loss: 0.02153603\n",
                        "\n",
                        "Epoch: 28/100, Train Loss: 0.02735729, Val Loss: 0.02431770, Val Accuracy: 0.99266667\n",
                        "\tLoss not decreased. Will wait for 2 more epochs...\n",
                        "\n",
                        "Epoch: 29/100, Train Loss: 0.02250526, Val Loss: 0.02610878, Val Accuracy: 0.99144444\n",
                        "\tLoss not decreased. Will wait for 1 more epochs...\n",
                        "\n",
                        "Epoch: 30/100, Train Loss: 0.01866935, Val Loss: 0.02246625, Val Accuracy: 0.99344444\n",
                        "\tLoss not decreased. Will wait for 0 more epochs...\n"
                    ]
                }
            ]
        },
        {
            "cell_type": "markdown",
            "source": [
                "### 사전학습 모델 불러오기\n",
                "\n",
                "- 위 모델 학습 코드를 실행하기 귀찮을 경우에만 이 셀을 실행"
            ],
            "metadata": {
                "id": "jEu-GHz1ryXq"
            }
        },
        {
            "cell_type": "code",
            "source": [
                "!apt install megatools\n",
                "\n",
                "# mnist_feature_extractor.dth\n",
                "!megadl 'https://mega.nz/file/DgUQyDyB#7Gyq_9kzCz8FcGZV659VD1Cq1_36wimGVOG2Eram3P8'\n",
                "\n",
                "# mnist_classifier.dth\n",
                "!megadl 'https://mega.nz/file/H49S3bTI#qsonzlkV3JMniTbyzV77BB9VLhwmh1OJLTgxuD4PEMM'"
            ],
            "metadata": {
                "id": "FRovAkO6r-N6",
                "colab": {
                    "base_uri": "https://localhost:8080/"
                },
                "executionInfo": {
                    "status": "ok",
                    "timestamp": 0,
                    "user_tz": -540,
                    "elapsed": 8721,
                    "user": {
                        "displayName": "",
                        "userId": ""
                    }
                },
                "outputId": "e0c089c6-9e17-49a7-e24f-b92ed090fbaf"
            },
            "execution_count": 8,
            "outputs": [
                {
                    "output_type": "stream",
                    "name": "stdout",
                    "text": [
                        "Reading package lists... Done\n",
                        "Building dependency tree... Done\n",
                        "Reading state information... Done\n",
                        "The following NEW packages will be installed:\n",
                        "  megatools\n",
                        "0 upgraded, 1 newly installed, 0 to remove and 31 not upgraded.\n",
                        "Need to get 207 kB of archives.\n",
                        "After this operation, 898 kB of additional disk space will be used.\n",
                        "Get:1 http://archive.ubuntu.com/ubuntu jammy/universe amd64 megatools amd64 1.10.3-1build1 [207 kB]\n",
                        "Fetched 207 kB in 0s (661 kB/s)\n",
                        "Selecting previously unselected package megatools.\n",
                        "(Reading database ... 121671 files and directories currently installed.)\n",
                        "Preparing to unpack .../megatools_1.10.3-1build1_amd64.deb ...\n",
                        "Unpacking megatools (1.10.3-1build1) ...\n",
                        "Setting up megatools (1.10.3-1build1) ...\n",
                        "Processing triggers for man-db (2.10.2-1) ...\n",
                        "\u001b[0KDownloaded mnist_feature_extractor.dth\n",
                        "\u001b[0KDownloaded mnist_classifier.dth\n"
                    ]
                }
            ]
        },
        {
            "cell_type": "markdown",
            "source": [
                "### 사전학습 모델 테스트\n",
                "\n",
                "- 테스트 코드 원본: [devnson/mnist_pytorch](https://github.com/devnson/mnist_pytorch?tab=readme-ov-file#testing-model)"
            ],
            "metadata": {
                "id": "gizk1kPhpQHL"
            }
        },
        {
            "cell_type": "code",
            "source": [
                "model.feature_extractor.load_state_dict(torch.load(\"mnist_feature_extractor.dth\"))\n",
                "model.classifier.load_state_dict(torch.load(\"mnist_classifier.dth\"))\n",
                "model.eval()\n",
                "\n",
                "results = list()\n",
                "correct = 0\n",
                "for iter, (image, label) in enumerate(test_dataloader):\n",
                "\n",
                "    if (torch.cuda.is_available()):\n",
                "        image = image.cuda()\n",
                "        label = label.cuda()\n",
                "\n",
                "    pred = model(image)\n",
                "\n",
                "    pred = F.softmax(pred, dim=1)\n",
                "    correct += (label == pred.argmax(dim=1)).sum().item()\n",
                "\n",
                "test_accuracy = correct / len(mnist_testset)\n",
                "print(f\"Test accuracy {test_accuracy:.8f}\")"
            ],
            "metadata": {
                "colab": {
                    "base_uri": "https://localhost:8080/"
                },
                "id": "PZDucaQIiQVa",
                "executionInfo": {
                    "status": "ok",
                    "timestamp": 0,
                    "user_tz": -540,
                    "elapsed": 272,
                    "user": {
                        "displayName": "",
                        "userId": ""
                    }
                },
                "outputId": "b46559ad-bc4b-4555-bb7b-7e1537da533e"
            },
            "execution_count": 9,
            "outputs": [
                {
                    "output_type": "stream",
                    "name": "stdout",
                    "text": [
                        "Test accuracy 0.98900000\n"
                    ]
                }
            ]
        }
    ]
}