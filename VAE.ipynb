{
    "nbformat": 4,
    "nbformat_minor": 0,
    "metadata": {
        "colab": {
            "provenance": [],
            "gpuType": "T4",
            "collapsed_sections": [
                "q1KkE8gGscbE"
            ],
            "authorship_tag": "ABX9TyMdPBkWH6TklczcHeM4SDYx"
        },
        "kernelspec": {
            "name": "python3",
            "display_name": "Python 3"
        },
        "language_info": {
            "name": "python"
        },
        "accelerator": "GPU",
        "widgets": {
            "application/vnd.jupyter.widget-state+json": {
                "d09f85c371704900b5def36e52279803": {
                    "model_module": "@jupyter-widgets/controls",
                    "model_name": "HBoxModel",
                    "model_module_version": "1.5.0",
                    "state": {
                        "_dom_classes": [],
                        "_model_module": "@jupyter-widgets/controls",
                        "_model_module_version": "1.5.0",
                        "_model_name": "HBoxModel",
                        "_view_count": null,
                        "_view_module": "@jupyter-widgets/controls",
                        "_view_module_version": "1.5.0",
                        "_view_name": "HBoxView",
                        "box_style": "",
                        "children": [
                            "IPY_MODEL_87b57f60a35d47848c38b31a71ae312f",
                            "IPY_MODEL_723b07d353c8427e8545237f856ffc47",
                            "IPY_MODEL_84fbbc21a1644fe788113f4082141972"
                        ],
                        "layout": "IPY_MODEL_9a7e097814374d5f92323e7264a98d23"
                    }
                },
                "87b57f60a35d47848c38b31a71ae312f": {
                    "model_module": "@jupyter-widgets/controls",
                    "model_name": "HTMLModel",
                    "model_module_version": "1.5.0",
                    "state": {
                        "_dom_classes": [],
                        "_model_module": "@jupyter-widgets/controls",
                        "_model_module_version": "1.5.0",
                        "_model_name": "HTMLModel",
                        "_view_count": null,
                        "_view_module": "@jupyter-widgets/controls",
                        "_view_module_version": "1.5.0",
                        "_view_name": "HTMLView",
                        "description": "",
                        "description_tooltip": null,
                        "layout": "IPY_MODEL_7e76f3a9d83f41c1a2ab35690f3714fd",
                        "placeholder": "​",
                        "style": "IPY_MODEL_ec2b2934a22a4c18b36b29f4f3980fc7",
                        "value": ""
                    }
                },
                "723b07d353c8427e8545237f856ffc47": {
                    "model_module": "@jupyter-widgets/controls",
                    "model_name": "FloatProgressModel",
                    "model_module_version": "1.5.0",
                    "state": {
                        "_dom_classes": [],
                        "_model_module": "@jupyter-widgets/controls",
                        "_model_module_version": "1.5.0",
                        "_model_name": "FloatProgressModel",
                        "_view_count": null,
                        "_view_module": "@jupyter-widgets/controls",
                        "_view_module_version": "1.5.0",
                        "_view_name": "ProgressView",
                        "bar_style": "success",
                        "description": "",
                        "description_tooltip": null,
                        "layout": "IPY_MODEL_6eb91e8499254a01b802f545fc59a326",
                        "max": 9912422,
                        "min": 0,
                        "orientation": "horizontal",
                        "style": "IPY_MODEL_e44ff4ec2edc457488bfc8dad6f7b22c",
                        "value": 9912422
                    }
                },
                "84fbbc21a1644fe788113f4082141972": {
                    "model_module": "@jupyter-widgets/controls",
                    "model_name": "HTMLModel",
                    "model_module_version": "1.5.0",
                    "state": {
                        "_dom_classes": [],
                        "_model_module": "@jupyter-widgets/controls",
                        "_model_module_version": "1.5.0",
                        "_model_name": "HTMLModel",
                        "_view_count": null,
                        "_view_module": "@jupyter-widgets/controls",
                        "_view_module_version": "1.5.0",
                        "_view_name": "HTMLView",
                        "description": "",
                        "description_tooltip": null,
                        "layout": "IPY_MODEL_554badb4dd3440ac95af5c43c542c661",
                        "placeholder": "​",
                        "style": "IPY_MODEL_5b1ec131b21d4682aa9de8657505f9cd",
                        "value": " 9913344/? [00:00&lt;00:00, 71432945.65it/s]"
                    }
                },
                "9a7e097814374d5f92323e7264a98d23": {
                    "model_module": "@jupyter-widgets/base",
                    "model_name": "LayoutModel",
                    "model_module_version": "1.2.0",
                    "state": {
                        "_model_module": "@jupyter-widgets/base",
                        "_model_module_version": "1.2.0",
                        "_model_name": "LayoutModel",
                        "_view_count": null,
                        "_view_module": "@jupyter-widgets/base",
                        "_view_module_version": "1.2.0",
                        "_view_name": "LayoutView",
                        "align_content": null,
                        "align_items": null,
                        "align_self": null,
                        "border": null,
                        "bottom": null,
                        "display": null,
                        "flex": null,
                        "flex_flow": null,
                        "grid_area": null,
                        "grid_auto_columns": null,
                        "grid_auto_flow": null,
                        "grid_auto_rows": null,
                        "grid_column": null,
                        "grid_gap": null,
                        "grid_row": null,
                        "grid_template_areas": null,
                        "grid_template_columns": null,
                        "grid_template_rows": null,
                        "height": null,
                        "justify_content": null,
                        "justify_items": null,
                        "left": null,
                        "margin": null,
                        "max_height": null,
                        "max_width": null,
                        "min_height": null,
                        "min_width": null,
                        "object_fit": null,
                        "object_position": null,
                        "order": null,
                        "overflow": null,
                        "overflow_x": null,
                        "overflow_y": null,
                        "padding": null,
                        "right": null,
                        "top": null,
                        "visibility": null,
                        "width": null
                    }
                },
                "7e76f3a9d83f41c1a2ab35690f3714fd": {
                    "model_module": "@jupyter-widgets/base",
                    "model_name": "LayoutModel",
                    "model_module_version": "1.2.0",
                    "state": {
                        "_model_module": "@jupyter-widgets/base",
                        "_model_module_version": "1.2.0",
                        "_model_name": "LayoutModel",
                        "_view_count": null,
                        "_view_module": "@jupyter-widgets/base",
                        "_view_module_version": "1.2.0",
                        "_view_name": "LayoutView",
                        "align_content": null,
                        "align_items": null,
                        "align_self": null,
                        "border": null,
                        "bottom": null,
                        "display": null,
                        "flex": null,
                        "flex_flow": null,
                        "grid_area": null,
                        "grid_auto_columns": null,
                        "grid_auto_flow": null,
                        "grid_auto_rows": null,
                        "grid_column": null,
                        "grid_gap": null,
                        "grid_row": null,
                        "grid_template_areas": null,
                        "grid_template_columns": null,
                        "grid_template_rows": null,
                        "height": null,
                        "justify_content": null,
                        "justify_items": null,
                        "left": null,
                        "margin": null,
                        "max_height": null,
                        "max_width": null,
                        "min_height": null,
                        "min_width": null,
                        "object_fit": null,
                        "object_position": null,
                        "order": null,
                        "overflow": null,
                        "overflow_x": null,
                        "overflow_y": null,
                        "padding": null,
                        "right": null,
                        "top": null,
                        "visibility": null,
                        "width": null
                    }
                },
                "ec2b2934a22a4c18b36b29f4f3980fc7": {
                    "model_module": "@jupyter-widgets/controls",
                    "model_name": "DescriptionStyleModel",
                    "model_module_version": "1.5.0",
                    "state": {
                        "_model_module": "@jupyter-widgets/controls",
                        "_model_module_version": "1.5.0",
                        "_model_name": "DescriptionStyleModel",
                        "_view_count": null,
                        "_view_module": "@jupyter-widgets/base",
                        "_view_module_version": "1.2.0",
                        "_view_name": "StyleView",
                        "description_width": ""
                    }
                },
                "6eb91e8499254a01b802f545fc59a326": {
                    "model_module": "@jupyter-widgets/base",
                    "model_name": "LayoutModel",
                    "model_module_version": "1.2.0",
                    "state": {
                        "_model_module": "@jupyter-widgets/base",
                        "_model_module_version": "1.2.0",
                        "_model_name": "LayoutModel",
                        "_view_count": null,
                        "_view_module": "@jupyter-widgets/base",
                        "_view_module_version": "1.2.0",
                        "_view_name": "LayoutView",
                        "align_content": null,
                        "align_items": null,
                        "align_self": null,
                        "border": null,
                        "bottom": null,
                        "display": null,
                        "flex": null,
                        "flex_flow": null,
                        "grid_area": null,
                        "grid_auto_columns": null,
                        "grid_auto_flow": null,
                        "grid_auto_rows": null,
                        "grid_column": null,
                        "grid_gap": null,
                        "grid_row": null,
                        "grid_template_areas": null,
                        "grid_template_columns": null,
                        "grid_template_rows": null,
                        "height": null,
                        "justify_content": null,
                        "justify_items": null,
                        "left": null,
                        "margin": null,
                        "max_height": null,
                        "max_width": null,
                        "min_height": null,
                        "min_width": null,
                        "object_fit": null,
                        "object_position": null,
                        "order": null,
                        "overflow": null,
                        "overflow_x": null,
                        "overflow_y": null,
                        "padding": null,
                        "right": null,
                        "top": null,
                        "visibility": null,
                        "width": null
                    }
                },
                "e44ff4ec2edc457488bfc8dad6f7b22c": {
                    "model_module": "@jupyter-widgets/controls",
                    "model_name": "ProgressStyleModel",
                    "model_module_version": "1.5.0",
                    "state": {
                        "_model_module": "@jupyter-widgets/controls",
                        "_model_module_version": "1.5.0",
                        "_model_name": "ProgressStyleModel",
                        "_view_count": null,
                        "_view_module": "@jupyter-widgets/base",
                        "_view_module_version": "1.2.0",
                        "_view_name": "StyleView",
                        "bar_color": null,
                        "description_width": ""
                    }
                },
                "554badb4dd3440ac95af5c43c542c661": {
                    "model_module": "@jupyter-widgets/base",
                    "model_name": "LayoutModel",
                    "model_module_version": "1.2.0",
                    "state": {
                        "_model_module": "@jupyter-widgets/base",
                        "_model_module_version": "1.2.0",
                        "_model_name": "LayoutModel",
                        "_view_count": null,
                        "_view_module": "@jupyter-widgets/base",
                        "_view_module_version": "1.2.0",
                        "_view_name": "LayoutView",
                        "align_content": null,
                        "align_items": null,
                        "align_self": null,
                        "border": null,
                        "bottom": null,
                        "display": null,
                        "flex": null,
                        "flex_flow": null,
                        "grid_area": null,
                        "grid_auto_columns": null,
                        "grid_auto_flow": null,
                        "grid_auto_rows": null,
                        "grid_column": null,
                        "grid_gap": null,
                        "grid_row": null,
                        "grid_template_areas": null,
                        "grid_template_columns": null,
                        "grid_template_rows": null,
                        "height": null,
                        "justify_content": null,
                        "justify_items": null,
                        "left": null,
                        "margin": null,
                        "max_height": null,
                        "max_width": null,
                        "min_height": null,
                        "min_width": null,
                        "object_fit": null,
                        "object_position": null,
                        "order": null,
                        "overflow": null,
                        "overflow_x": null,
                        "overflow_y": null,
                        "padding": null,
                        "right": null,
                        "top": null,
                        "visibility": null,
                        "width": null
                    }
                },
                "5b1ec131b21d4682aa9de8657505f9cd": {
                    "model_module": "@jupyter-widgets/controls",
                    "model_name": "DescriptionStyleModel",
                    "model_module_version": "1.5.0",
                    "state": {
                        "_model_module": "@jupyter-widgets/controls",
                        "_model_module_version": "1.5.0",
                        "_model_name": "DescriptionStyleModel",
                        "_view_count": null,
                        "_view_module": "@jupyter-widgets/base",
                        "_view_module_version": "1.2.0",
                        "_view_name": "StyleView",
                        "description_width": ""
                    }
                },
                "1eabdea0aa114988a5b2b8f838fe3666": {
                    "model_module": "@jupyter-widgets/controls",
                    "model_name": "HBoxModel",
                    "model_module_version": "1.5.0",
                    "state": {
                        "_dom_classes": [],
                        "_model_module": "@jupyter-widgets/controls",
                        "_model_module_version": "1.5.0",
                        "_model_name": "HBoxModel",
                        "_view_count": null,
                        "_view_module": "@jupyter-widgets/controls",
                        "_view_module_version": "1.5.0",
                        "_view_name": "HBoxView",
                        "box_style": "",
                        "children": [
                            "IPY_MODEL_e203988f1e5648b496e90b413f1bd2b0",
                            "IPY_MODEL_7880677d48bd48e082137f60bace5ea0",
                            "IPY_MODEL_c1573f5d9e024828af5bd0ee7ab6337d"
                        ],
                        "layout": "IPY_MODEL_e9f30b7e06b0474790c52995731f4f2c"
                    }
                },
                "e203988f1e5648b496e90b413f1bd2b0": {
                    "model_module": "@jupyter-widgets/controls",
                    "model_name": "HTMLModel",
                    "model_module_version": "1.5.0",
                    "state": {
                        "_dom_classes": [],
                        "_model_module": "@jupyter-widgets/controls",
                        "_model_module_version": "1.5.0",
                        "_model_name": "HTMLModel",
                        "_view_count": null,
                        "_view_module": "@jupyter-widgets/controls",
                        "_view_module_version": "1.5.0",
                        "_view_name": "HTMLView",
                        "description": "",
                        "description_tooltip": null,
                        "layout": "IPY_MODEL_62765538122f4cbd9766c8f1317464a8",
                        "placeholder": "​",
                        "style": "IPY_MODEL_892b03108d954e99bf9e9d1912b4b8b4",
                        "value": ""
                    }
                },
                "7880677d48bd48e082137f60bace5ea0": {
                    "model_module": "@jupyter-widgets/controls",
                    "model_name": "FloatProgressModel",
                    "model_module_version": "1.5.0",
                    "state": {
                        "_dom_classes": [],
                        "_model_module": "@jupyter-widgets/controls",
                        "_model_module_version": "1.5.0",
                        "_model_name": "FloatProgressModel",
                        "_view_count": null,
                        "_view_module": "@jupyter-widgets/controls",
                        "_view_module_version": "1.5.0",
                        "_view_name": "ProgressView",
                        "bar_style": "success",
                        "description": "",
                        "description_tooltip": null,
                        "layout": "IPY_MODEL_1430525f1d5e45ba9372d141056ddbf1",
                        "max": 28881,
                        "min": 0,
                        "orientation": "horizontal",
                        "style": "IPY_MODEL_a9103e4c6af249aba0c886830584fbb9",
                        "value": 28881
                    }
                },
                "c1573f5d9e024828af5bd0ee7ab6337d": {
                    "model_module": "@jupyter-widgets/controls",
                    "model_name": "HTMLModel",
                    "model_module_version": "1.5.0",
                    "state": {
                        "_dom_classes": [],
                        "_model_module": "@jupyter-widgets/controls",
                        "_model_module_version": "1.5.0",
                        "_model_name": "HTMLModel",
                        "_view_count": null,
                        "_view_module": "@jupyter-widgets/controls",
                        "_view_module_version": "1.5.0",
                        "_view_name": "HTMLView",
                        "description": "",
                        "description_tooltip": null,
                        "layout": "IPY_MODEL_1dfd80ef62f3420b9606161a12e63c51",
                        "placeholder": "​",
                        "style": "IPY_MODEL_2dbdebdbf28a460fa92d3555d0090be8",
                        "value": " 29696/? [00:00&lt;00:00, 2058438.44it/s]"
                    }
                },
                "e9f30b7e06b0474790c52995731f4f2c": {
                    "model_module": "@jupyter-widgets/base",
                    "model_name": "LayoutModel",
                    "model_module_version": "1.2.0",
                    "state": {
                        "_model_module": "@jupyter-widgets/base",
                        "_model_module_version": "1.2.0",
                        "_model_name": "LayoutModel",
                        "_view_count": null,
                        "_view_module": "@jupyter-widgets/base",
                        "_view_module_version": "1.2.0",
                        "_view_name": "LayoutView",
                        "align_content": null,
                        "align_items": null,
                        "align_self": null,
                        "border": null,
                        "bottom": null,
                        "display": null,
                        "flex": null,
                        "flex_flow": null,
                        "grid_area": null,
                        "grid_auto_columns": null,
                        "grid_auto_flow": null,
                        "grid_auto_rows": null,
                        "grid_column": null,
                        "grid_gap": null,
                        "grid_row": null,
                        "grid_template_areas": null,
                        "grid_template_columns": null,
                        "grid_template_rows": null,
                        "height": null,
                        "justify_content": null,
                        "justify_items": null,
                        "left": null,
                        "margin": null,
                        "max_height": null,
                        "max_width": null,
                        "min_height": null,
                        "min_width": null,
                        "object_fit": null,
                        "object_position": null,
                        "order": null,
                        "overflow": null,
                        "overflow_x": null,
                        "overflow_y": null,
                        "padding": null,
                        "right": null,
                        "top": null,
                        "visibility": null,
                        "width": null
                    }
                },
                "62765538122f4cbd9766c8f1317464a8": {
                    "model_module": "@jupyter-widgets/base",
                    "model_name": "LayoutModel",
                    "model_module_version": "1.2.0",
                    "state": {
                        "_model_module": "@jupyter-widgets/base",
                        "_model_module_version": "1.2.0",
                        "_model_name": "LayoutModel",
                        "_view_count": null,
                        "_view_module": "@jupyter-widgets/base",
                        "_view_module_version": "1.2.0",
                        "_view_name": "LayoutView",
                        "align_content": null,
                        "align_items": null,
                        "align_self": null,
                        "border": null,
                        "bottom": null,
                        "display": null,
                        "flex": null,
                        "flex_flow": null,
                        "grid_area": null,
                        "grid_auto_columns": null,
                        "grid_auto_flow": null,
                        "grid_auto_rows": null,
                        "grid_column": null,
                        "grid_gap": null,
                        "grid_row": null,
                        "grid_template_areas": null,
                        "grid_template_columns": null,
                        "grid_template_rows": null,
                        "height": null,
                        "justify_content": null,
                        "justify_items": null,
                        "left": null,
                        "margin": null,
                        "max_height": null,
                        "max_width": null,
                        "min_height": null,
                        "min_width": null,
                        "object_fit": null,
                        "object_position": null,
                        "order": null,
                        "overflow": null,
                        "overflow_x": null,
                        "overflow_y": null,
                        "padding": null,
                        "right": null,
                        "top": null,
                        "visibility": null,
                        "width": null
                    }
                },
                "892b03108d954e99bf9e9d1912b4b8b4": {
                    "model_module": "@jupyter-widgets/controls",
                    "model_name": "DescriptionStyleModel",
                    "model_module_version": "1.5.0",
                    "state": {
                        "_model_module": "@jupyter-widgets/controls",
                        "_model_module_version": "1.5.0",
                        "_model_name": "DescriptionStyleModel",
                        "_view_count": null,
                        "_view_module": "@jupyter-widgets/base",
                        "_view_module_version": "1.2.0",
                        "_view_name": "StyleView",
                        "description_width": ""
                    }
                },
                "1430525f1d5e45ba9372d141056ddbf1": {
                    "model_module": "@jupyter-widgets/base",
                    "model_name": "LayoutModel",
                    "model_module_version": "1.2.0",
                    "state": {
                        "_model_module": "@jupyter-widgets/base",
                        "_model_module_version": "1.2.0",
                        "_model_name": "LayoutModel",
                        "_view_count": null,
                        "_view_module": "@jupyter-widgets/base",
                        "_view_module_version": "1.2.0",
                        "_view_name": "LayoutView",
                        "align_content": null,
                        "align_items": null,
                        "align_self": null,
                        "border": null,
                        "bottom": null,
                        "display": null,
                        "flex": null,
                        "flex_flow": null,
                        "grid_area": null,
                        "grid_auto_columns": null,
                        "grid_auto_flow": null,
                        "grid_auto_rows": null,
                        "grid_column": null,
                        "grid_gap": null,
                        "grid_row": null,
                        "grid_template_areas": null,
                        "grid_template_columns": null,
                        "grid_template_rows": null,
                        "height": null,
                        "justify_content": null,
                        "justify_items": null,
                        "left": null,
                        "margin": null,
                        "max_height": null,
                        "max_width": null,
                        "min_height": null,
                        "min_width": null,
                        "object_fit": null,
                        "object_position": null,
                        "order": null,
                        "overflow": null,
                        "overflow_x": null,
                        "overflow_y": null,
                        "padding": null,
                        "right": null,
                        "top": null,
                        "visibility": null,
                        "width": null
                    }
                },
                "a9103e4c6af249aba0c886830584fbb9": {
                    "model_module": "@jupyter-widgets/controls",
                    "model_name": "ProgressStyleModel",
                    "model_module_version": "1.5.0",
                    "state": {
                        "_model_module": "@jupyter-widgets/controls",
                        "_model_module_version": "1.5.0",
                        "_model_name": "ProgressStyleModel",
                        "_view_count": null,
                        "_view_module": "@jupyter-widgets/base",
                        "_view_module_version": "1.2.0",
                        "_view_name": "StyleView",
                        "bar_color": null,
                        "description_width": ""
                    }
                },
                "1dfd80ef62f3420b9606161a12e63c51": {
                    "model_module": "@jupyter-widgets/base",
                    "model_name": "LayoutModel",
                    "model_module_version": "1.2.0",
                    "state": {
                        "_model_module": "@jupyter-widgets/base",
                        "_model_module_version": "1.2.0",
                        "_model_name": "LayoutModel",
                        "_view_count": null,
                        "_view_module": "@jupyter-widgets/base",
                        "_view_module_version": "1.2.0",
                        "_view_name": "LayoutView",
                        "align_content": null,
                        "align_items": null,
                        "align_self": null,
                        "border": null,
                        "bottom": null,
                        "display": null,
                        "flex": null,
                        "flex_flow": null,
                        "grid_area": null,
                        "grid_auto_columns": null,
                        "grid_auto_flow": null,
                        "grid_auto_rows": null,
                        "grid_column": null,
                        "grid_gap": null,
                        "grid_row": null,
                        "grid_template_areas": null,
                        "grid_template_columns": null,
                        "grid_template_rows": null,
                        "height": null,
                        "justify_content": null,
                        "justify_items": null,
                        "left": null,
                        "margin": null,
                        "max_height": null,
                        "max_width": null,
                        "min_height": null,
                        "min_width": null,
                        "object_fit": null,
                        "object_position": null,
                        "order": null,
                        "overflow": null,
                        "overflow_x": null,
                        "overflow_y": null,
                        "padding": null,
                        "right": null,
                        "top": null,
                        "visibility": null,
                        "width": null
                    }
                },
                "2dbdebdbf28a460fa92d3555d0090be8": {
                    "model_module": "@jupyter-widgets/controls",
                    "model_name": "DescriptionStyleModel",
                    "model_module_version": "1.5.0",
                    "state": {
                        "_model_module": "@jupyter-widgets/controls",
                        "_model_module_version": "1.5.0",
                        "_model_name": "DescriptionStyleModel",
                        "_view_count": null,
                        "_view_module": "@jupyter-widgets/base",
                        "_view_module_version": "1.2.0",
                        "_view_name": "StyleView",
                        "description_width": ""
                    }
                },
                "1d1f95376fae433fae4aaa966c20cc72": {
                    "model_module": "@jupyter-widgets/controls",
                    "model_name": "HBoxModel",
                    "model_module_version": "1.5.0",
                    "state": {
                        "_dom_classes": [],
                        "_model_module": "@jupyter-widgets/controls",
                        "_model_module_version": "1.5.0",
                        "_model_name": "HBoxModel",
                        "_view_count": null,
                        "_view_module": "@jupyter-widgets/controls",
                        "_view_module_version": "1.5.0",
                        "_view_name": "HBoxView",
                        "box_style": "",
                        "children": [
                            "IPY_MODEL_46196dc004ec4b4bbf8deb1326d0a67f",
                            "IPY_MODEL_5f4968af33854afa9682177b37440cde",
                            "IPY_MODEL_068f7028c6d74735a731d3260519aeec"
                        ],
                        "layout": "IPY_MODEL_131ff272c41748fea46dd366bf224d8f"
                    }
                },
                "46196dc004ec4b4bbf8deb1326d0a67f": {
                    "model_module": "@jupyter-widgets/controls",
                    "model_name": "HTMLModel",
                    "model_module_version": "1.5.0",
                    "state": {
                        "_dom_classes": [],
                        "_model_module": "@jupyter-widgets/controls",
                        "_model_module_version": "1.5.0",
                        "_model_name": "HTMLModel",
                        "_view_count": null,
                        "_view_module": "@jupyter-widgets/controls",
                        "_view_module_version": "1.5.0",
                        "_view_name": "HTMLView",
                        "description": "",
                        "description_tooltip": null,
                        "layout": "IPY_MODEL_e4f36dfb48344c6e9ded0ad3b08ea45c",
                        "placeholder": "​",
                        "style": "IPY_MODEL_6a137944b7f341dcb257a82db7c306ae",
                        "value": ""
                    }
                },
                "5f4968af33854afa9682177b37440cde": {
                    "model_module": "@jupyter-widgets/controls",
                    "model_name": "FloatProgressModel",
                    "model_module_version": "1.5.0",
                    "state": {
                        "_dom_classes": [],
                        "_model_module": "@jupyter-widgets/controls",
                        "_model_module_version": "1.5.0",
                        "_model_name": "FloatProgressModel",
                        "_view_count": null,
                        "_view_module": "@jupyter-widgets/controls",
                        "_view_module_version": "1.5.0",
                        "_view_name": "ProgressView",
                        "bar_style": "success",
                        "description": "",
                        "description_tooltip": null,
                        "layout": "IPY_MODEL_a23639754c4746e087034c6b526d46ae",
                        "max": 1648877,
                        "min": 0,
                        "orientation": "horizontal",
                        "style": "IPY_MODEL_70dc7c19594a47eeac226ff047d7c750",
                        "value": 1648877
                    }
                },
                "068f7028c6d74735a731d3260519aeec": {
                    "model_module": "@jupyter-widgets/controls",
                    "model_name": "HTMLModel",
                    "model_module_version": "1.5.0",
                    "state": {
                        "_dom_classes": [],
                        "_model_module": "@jupyter-widgets/controls",
                        "_model_module_version": "1.5.0",
                        "_model_name": "HTMLModel",
                        "_view_count": null,
                        "_view_module": "@jupyter-widgets/controls",
                        "_view_module_version": "1.5.0",
                        "_view_name": "HTMLView",
                        "description": "",
                        "description_tooltip": null,
                        "layout": "IPY_MODEL_a5d37d3e98b2417ca69b89a8bcae3668",
                        "placeholder": "​",
                        "style": "IPY_MODEL_20e3c8d6dddd4c47b36365b4b84220af",
                        "value": " 1649664/? [00:00&lt;00:00, 25221781.89it/s]"
                    }
                },
                "131ff272c41748fea46dd366bf224d8f": {
                    "model_module": "@jupyter-widgets/base",
                    "model_name": "LayoutModel",
                    "model_module_version": "1.2.0",
                    "state": {
                        "_model_module": "@jupyter-widgets/base",
                        "_model_module_version": "1.2.0",
                        "_model_name": "LayoutModel",
                        "_view_count": null,
                        "_view_module": "@jupyter-widgets/base",
                        "_view_module_version": "1.2.0",
                        "_view_name": "LayoutView",
                        "align_content": null,
                        "align_items": null,
                        "align_self": null,
                        "border": null,
                        "bottom": null,
                        "display": null,
                        "flex": null,
                        "flex_flow": null,
                        "grid_area": null,
                        "grid_auto_columns": null,
                        "grid_auto_flow": null,
                        "grid_auto_rows": null,
                        "grid_column": null,
                        "grid_gap": null,
                        "grid_row": null,
                        "grid_template_areas": null,
                        "grid_template_columns": null,
                        "grid_template_rows": null,
                        "height": null,
                        "justify_content": null,
                        "justify_items": null,
                        "left": null,
                        "margin": null,
                        "max_height": null,
                        "max_width": null,
                        "min_height": null,
                        "min_width": null,
                        "object_fit": null,
                        "object_position": null,
                        "order": null,
                        "overflow": null,
                        "overflow_x": null,
                        "overflow_y": null,
                        "padding": null,
                        "right": null,
                        "top": null,
                        "visibility": null,
                        "width": null
                    }
                },
                "e4f36dfb48344c6e9ded0ad3b08ea45c": {
                    "model_module": "@jupyter-widgets/base",
                    "model_name": "LayoutModel",
                    "model_module_version": "1.2.0",
                    "state": {
                        "_model_module": "@jupyter-widgets/base",
                        "_model_module_version": "1.2.0",
                        "_model_name": "LayoutModel",
                        "_view_count": null,
                        "_view_module": "@jupyter-widgets/base",
                        "_view_module_version": "1.2.0",
                        "_view_name": "LayoutView",
                        "align_content": null,
                        "align_items": null,
                        "align_self": null,
                        "border": null,
                        "bottom": null,
                        "display": null,
                        "flex": null,
                        "flex_flow": null,
                        "grid_area": null,
                        "grid_auto_columns": null,
                        "grid_auto_flow": null,
                        "grid_auto_rows": null,
                        "grid_column": null,
                        "grid_gap": null,
                        "grid_row": null,
                        "grid_template_areas": null,
                        "grid_template_columns": null,
                        "grid_template_rows": null,
                        "height": null,
                        "justify_content": null,
                        "justify_items": null,
                        "left": null,
                        "margin": null,
                        "max_height": null,
                        "max_width": null,
                        "min_height": null,
                        "min_width": null,
                        "object_fit": null,
                        "object_position": null,
                        "order": null,
                        "overflow": null,
                        "overflow_x": null,
                        "overflow_y": null,
                        "padding": null,
                        "right": null,
                        "top": null,
                        "visibility": null,
                        "width": null
                    }
                },
                "6a137944b7f341dcb257a82db7c306ae": {
                    "model_module": "@jupyter-widgets/controls",
                    "model_name": "DescriptionStyleModel",
                    "model_module_version": "1.5.0",
                    "state": {
                        "_model_module": "@jupyter-widgets/controls",
                        "_model_module_version": "1.5.0",
                        "_model_name": "DescriptionStyleModel",
                        "_view_count": null,
                        "_view_module": "@jupyter-widgets/base",
                        "_view_module_version": "1.2.0",
                        "_view_name": "StyleView",
                        "description_width": ""
                    }
                },
                "a23639754c4746e087034c6b526d46ae": {
                    "model_module": "@jupyter-widgets/base",
                    "model_name": "LayoutModel",
                    "model_module_version": "1.2.0",
                    "state": {
                        "_model_module": "@jupyter-widgets/base",
                        "_model_module_version": "1.2.0",
                        "_model_name": "LayoutModel",
                        "_view_count": null,
                        "_view_module": "@jupyter-widgets/base",
                        "_view_module_version": "1.2.0",
                        "_view_name": "LayoutView",
                        "align_content": null,
                        "align_items": null,
                        "align_self": null,
                        "border": null,
                        "bottom": null,
                        "display": null,
                        "flex": null,
                        "flex_flow": null,
                        "grid_area": null,
                        "grid_auto_columns": null,
                        "grid_auto_flow": null,
                        "grid_auto_rows": null,
                        "grid_column": null,
                        "grid_gap": null,
                        "grid_row": null,
                        "grid_template_areas": null,
                        "grid_template_columns": null,
                        "grid_template_rows": null,
                        "height": null,
                        "justify_content": null,
                        "justify_items": null,
                        "left": null,
                        "margin": null,
                        "max_height": null,
                        "max_width": null,
                        "min_height": null,
                        "min_width": null,
                        "object_fit": null,
                        "object_position": null,
                        "order": null,
                        "overflow": null,
                        "overflow_x": null,
                        "overflow_y": null,
                        "padding": null,
                        "right": null,
                        "top": null,
                        "visibility": null,
                        "width": null
                    }
                },
                "70dc7c19594a47eeac226ff047d7c750": {
                    "model_module": "@jupyter-widgets/controls",
                    "model_name": "ProgressStyleModel",
                    "model_module_version": "1.5.0",
                    "state": {
                        "_model_module": "@jupyter-widgets/controls",
                        "_model_module_version": "1.5.0",
                        "_model_name": "ProgressStyleModel",
                        "_view_count": null,
                        "_view_module": "@jupyter-widgets/base",
                        "_view_module_version": "1.2.0",
                        "_view_name": "StyleView",
                        "bar_color": null,
                        "description_width": ""
                    }
                },
                "a5d37d3e98b2417ca69b89a8bcae3668": {
                    "model_module": "@jupyter-widgets/base",
                    "model_name": "LayoutModel",
                    "model_module_version": "1.2.0",
                    "state": {
                        "_model_module": "@jupyter-widgets/base",
                        "_model_module_version": "1.2.0",
                        "_model_name": "LayoutModel",
                        "_view_count": null,
                        "_view_module": "@jupyter-widgets/base",
                        "_view_module_version": "1.2.0",
                        "_view_name": "LayoutView",
                        "align_content": null,
                        "align_items": null,
                        "align_self": null,
                        "border": null,
                        "bottom": null,
                        "display": null,
                        "flex": null,
                        "flex_flow": null,
                        "grid_area": null,
                        "grid_auto_columns": null,
                        "grid_auto_flow": null,
                        "grid_auto_rows": null,
                        "grid_column": null,
                        "grid_gap": null,
                        "grid_row": null,
                        "grid_template_areas": null,
                        "grid_template_columns": null,
                        "grid_template_rows": null,
                        "height": null,
                        "justify_content": null,
                        "justify_items": null,
                        "left": null,
                        "margin": null,
                        "max_height": null,
                        "max_width": null,
                        "min_height": null,
                        "min_width": null,
                        "object_fit": null,
                        "object_position": null,
                        "order": null,
                        "overflow": null,
                        "overflow_x": null,
                        "overflow_y": null,
                        "padding": null,
                        "right": null,
                        "top": null,
                        "visibility": null,
                        "width": null
                    }
                },
                "20e3c8d6dddd4c47b36365b4b84220af": {
                    "model_module": "@jupyter-widgets/controls",
                    "model_name": "DescriptionStyleModel",
                    "model_module_version": "1.5.0",
                    "state": {
                        "_model_module": "@jupyter-widgets/controls",
                        "_model_module_version": "1.5.0",
                        "_model_name": "DescriptionStyleModel",
                        "_view_count": null,
                        "_view_module": "@jupyter-widgets/base",
                        "_view_module_version": "1.2.0",
                        "_view_name": "StyleView",
                        "description_width": ""
                    }
                },
                "36ac6801db2b48af9c7ad9349844b9e5": {
                    "model_module": "@jupyter-widgets/controls",
                    "model_name": "HBoxModel",
                    "model_module_version": "1.5.0",
                    "state": {
                        "_dom_classes": [],
                        "_model_module": "@jupyter-widgets/controls",
                        "_model_module_version": "1.5.0",
                        "_model_name": "HBoxModel",
                        "_view_count": null,
                        "_view_module": "@jupyter-widgets/controls",
                        "_view_module_version": "1.5.0",
                        "_view_name": "HBoxView",
                        "box_style": "",
                        "children": [
                            "IPY_MODEL_8e426ea2874349d5bb35b1701f146414",
                            "IPY_MODEL_ae57821551044007a0a8dc059e162936",
                            "IPY_MODEL_9cf4d15f1c7c4ae5b2b5969096fd1090"
                        ],
                        "layout": "IPY_MODEL_1342997874c643e4a1240e1f5d62742b"
                    }
                },
                "8e426ea2874349d5bb35b1701f146414": {
                    "model_module": "@jupyter-widgets/controls",
                    "model_name": "HTMLModel",
                    "model_module_version": "1.5.0",
                    "state": {
                        "_dom_classes": [],
                        "_model_module": "@jupyter-widgets/controls",
                        "_model_module_version": "1.5.0",
                        "_model_name": "HTMLModel",
                        "_view_count": null,
                        "_view_module": "@jupyter-widgets/controls",
                        "_view_module_version": "1.5.0",
                        "_view_name": "HTMLView",
                        "description": "",
                        "description_tooltip": null,
                        "layout": "IPY_MODEL_3dc3ca9460eb4a35a07b63a9d6d1323e",
                        "placeholder": "​",
                        "style": "IPY_MODEL_f27cec5283e44f029fff5f29ebe6b497",
                        "value": ""
                    }
                },
                "ae57821551044007a0a8dc059e162936": {
                    "model_module": "@jupyter-widgets/controls",
                    "model_name": "FloatProgressModel",
                    "model_module_version": "1.5.0",
                    "state": {
                        "_dom_classes": [],
                        "_model_module": "@jupyter-widgets/controls",
                        "_model_module_version": "1.5.0",
                        "_model_name": "FloatProgressModel",
                        "_view_count": null,
                        "_view_module": "@jupyter-widgets/controls",
                        "_view_module_version": "1.5.0",
                        "_view_name": "ProgressView",
                        "bar_style": "success",
                        "description": "",
                        "description_tooltip": null,
                        "layout": "IPY_MODEL_abd3d1d24c964e1f9f8037ce9f2f3fcc",
                        "max": 4542,
                        "min": 0,
                        "orientation": "horizontal",
                        "style": "IPY_MODEL_cfc1c16e3f634be383f49ddb7e0093f8",
                        "value": 4542
                    }
                },
                "9cf4d15f1c7c4ae5b2b5969096fd1090": {
                    "model_module": "@jupyter-widgets/controls",
                    "model_name": "HTMLModel",
                    "model_module_version": "1.5.0",
                    "state": {
                        "_dom_classes": [],
                        "_model_module": "@jupyter-widgets/controls",
                        "_model_module_version": "1.5.0",
                        "_model_name": "HTMLModel",
                        "_view_count": null,
                        "_view_module": "@jupyter-widgets/controls",
                        "_view_module_version": "1.5.0",
                        "_view_name": "HTMLView",
                        "description": "",
                        "description_tooltip": null,
                        "layout": "IPY_MODEL_b75433b736724609913ce9bfdfed3ef4",
                        "placeholder": "​",
                        "style": "IPY_MODEL_6eb41bd8c271443dbaf13530e7589657",
                        "value": " 5120/? [00:00&lt;00:00, 396390.22it/s]"
                    }
                },
                "1342997874c643e4a1240e1f5d62742b": {
                    "model_module": "@jupyter-widgets/base",
                    "model_name": "LayoutModel",
                    "model_module_version": "1.2.0",
                    "state": {
                        "_model_module": "@jupyter-widgets/base",
                        "_model_module_version": "1.2.0",
                        "_model_name": "LayoutModel",
                        "_view_count": null,
                        "_view_module": "@jupyter-widgets/base",
                        "_view_module_version": "1.2.0",
                        "_view_name": "LayoutView",
                        "align_content": null,
                        "align_items": null,
                        "align_self": null,
                        "border": null,
                        "bottom": null,
                        "display": null,
                        "flex": null,
                        "flex_flow": null,
                        "grid_area": null,
                        "grid_auto_columns": null,
                        "grid_auto_flow": null,
                        "grid_auto_rows": null,
                        "grid_column": null,
                        "grid_gap": null,
                        "grid_row": null,
                        "grid_template_areas": null,
                        "grid_template_columns": null,
                        "grid_template_rows": null,
                        "height": null,
                        "justify_content": null,
                        "justify_items": null,
                        "left": null,
                        "margin": null,
                        "max_height": null,
                        "max_width": null,
                        "min_height": null,
                        "min_width": null,
                        "object_fit": null,
                        "object_position": null,
                        "order": null,
                        "overflow": null,
                        "overflow_x": null,
                        "overflow_y": null,
                        "padding": null,
                        "right": null,
                        "top": null,
                        "visibility": null,
                        "width": null
                    }
                },
                "3dc3ca9460eb4a35a07b63a9d6d1323e": {
                    "model_module": "@jupyter-widgets/base",
                    "model_name": "LayoutModel",
                    "model_module_version": "1.2.0",
                    "state": {
                        "_model_module": "@jupyter-widgets/base",
                        "_model_module_version": "1.2.0",
                        "_model_name": "LayoutModel",
                        "_view_count": null,
                        "_view_module": "@jupyter-widgets/base",
                        "_view_module_version": "1.2.0",
                        "_view_name": "LayoutView",
                        "align_content": null,
                        "align_items": null,
                        "align_self": null,
                        "border": null,
                        "bottom": null,
                        "display": null,
                        "flex": null,
                        "flex_flow": null,
                        "grid_area": null,
                        "grid_auto_columns": null,
                        "grid_auto_flow": null,
                        "grid_auto_rows": null,
                        "grid_column": null,
                        "grid_gap": null,
                        "grid_row": null,
                        "grid_template_areas": null,
                        "grid_template_columns": null,
                        "grid_template_rows": null,
                        "height": null,
                        "justify_content": null,
                        "justify_items": null,
                        "left": null,
                        "margin": null,
                        "max_height": null,
                        "max_width": null,
                        "min_height": null,
                        "min_width": null,
                        "object_fit": null,
                        "object_position": null,
                        "order": null,
                        "overflow": null,
                        "overflow_x": null,
                        "overflow_y": null,
                        "padding": null,
                        "right": null,
                        "top": null,
                        "visibility": null,
                        "width": null
                    }
                },
                "f27cec5283e44f029fff5f29ebe6b497": {
                    "model_module": "@jupyter-widgets/controls",
                    "model_name": "DescriptionStyleModel",
                    "model_module_version": "1.5.0",
                    "state": {
                        "_model_module": "@jupyter-widgets/controls",
                        "_model_module_version": "1.5.0",
                        "_model_name": "DescriptionStyleModel",
                        "_view_count": null,
                        "_view_module": "@jupyter-widgets/base",
                        "_view_module_version": "1.2.0",
                        "_view_name": "StyleView",
                        "description_width": ""
                    }
                },
                "abd3d1d24c964e1f9f8037ce9f2f3fcc": {
                    "model_module": "@jupyter-widgets/base",
                    "model_name": "LayoutModel",
                    "model_module_version": "1.2.0",
                    "state": {
                        "_model_module": "@jupyter-widgets/base",
                        "_model_module_version": "1.2.0",
                        "_model_name": "LayoutModel",
                        "_view_count": null,
                        "_view_module": "@jupyter-widgets/base",
                        "_view_module_version": "1.2.0",
                        "_view_name": "LayoutView",
                        "align_content": null,
                        "align_items": null,
                        "align_self": null,
                        "border": null,
                        "bottom": null,
                        "display": null,
                        "flex": null,
                        "flex_flow": null,
                        "grid_area": null,
                        "grid_auto_columns": null,
                        "grid_auto_flow": null,
                        "grid_auto_rows": null,
                        "grid_column": null,
                        "grid_gap": null,
                        "grid_row": null,
                        "grid_template_areas": null,
                        "grid_template_columns": null,
                        "grid_template_rows": null,
                        "height": null,
                        "justify_content": null,
                        "justify_items": null,
                        "left": null,
                        "margin": null,
                        "max_height": null,
                        "max_width": null,
                        "min_height": null,
                        "min_width": null,
                        "object_fit": null,
                        "object_position": null,
                        "order": null,
                        "overflow": null,
                        "overflow_x": null,
                        "overflow_y": null,
                        "padding": null,
                        "right": null,
                        "top": null,
                        "visibility": null,
                        "width": null
                    }
                },
                "cfc1c16e3f634be383f49ddb7e0093f8": {
                    "model_module": "@jupyter-widgets/controls",
                    "model_name": "ProgressStyleModel",
                    "model_module_version": "1.5.0",
                    "state": {
                        "_model_module": "@jupyter-widgets/controls",
                        "_model_module_version": "1.5.0",
                        "_model_name": "ProgressStyleModel",
                        "_view_count": null,
                        "_view_module": "@jupyter-widgets/base",
                        "_view_module_version": "1.2.0",
                        "_view_name": "StyleView",
                        "bar_color": null,
                        "description_width": ""
                    }
                },
                "b75433b736724609913ce9bfdfed3ef4": {
                    "model_module": "@jupyter-widgets/base",
                    "model_name": "LayoutModel",
                    "model_module_version": "1.2.0",
                    "state": {
                        "_model_module": "@jupyter-widgets/base",
                        "_model_module_version": "1.2.0",
                        "_model_name": "LayoutModel",
                        "_view_count": null,
                        "_view_module": "@jupyter-widgets/base",
                        "_view_module_version": "1.2.0",
                        "_view_name": "LayoutView",
                        "align_content": null,
                        "align_items": null,
                        "align_self": null,
                        "border": null,
                        "bottom": null,
                        "display": null,
                        "flex": null,
                        "flex_flow": null,
                        "grid_area": null,
                        "grid_auto_columns": null,
                        "grid_auto_flow": null,
                        "grid_auto_rows": null,
                        "grid_column": null,
                        "grid_gap": null,
                        "grid_row": null,
                        "grid_template_areas": null,
                        "grid_template_columns": null,
                        "grid_template_rows": null,
                        "height": null,
                        "justify_content": null,
                        "justify_items": null,
                        "left": null,
                        "margin": null,
                        "max_height": null,
                        "max_width": null,
                        "min_height": null,
                        "min_width": null,
                        "object_fit": null,
                        "object_position": null,
                        "order": null,
                        "overflow": null,
                        "overflow_x": null,
                        "overflow_y": null,
                        "padding": null,
                        "right": null,
                        "top": null,
                        "visibility": null,
                        "width": null
                    }
                },
                "6eb41bd8c271443dbaf13530e7589657": {
                    "model_module": "@jupyter-widgets/controls",
                    "model_name": "DescriptionStyleModel",
                    "model_module_version": "1.5.0",
                    "state": {
                        "_model_module": "@jupyter-widgets/controls",
                        "_model_module_version": "1.5.0",
                        "_model_name": "DescriptionStyleModel",
                        "_view_count": null,
                        "_view_module": "@jupyter-widgets/base",
                        "_view_module_version": "1.2.0",
                        "_view_name": "StyleView",
                        "description_width": ""
                    }
                }
            }
        }
    },
    "cells": [
        {
            "cell_type": "markdown",
            "source": [
                "[![Open In Colab](https://colab.research.google.com/assets/colab-badge.svg)](https://colab.research.google.com/github/shhommychon/mnist_generative_practice/blob/master/VAE.ipynb)"
            ],
            "metadata": {
                "id": "qj2EknwYsQzY"
            }
        },
        {
            "cell_type": "markdown",
            "source": [
                "# MNIST VAE 학습"
            ],
            "metadata": {
                "id": "JszPRwRCsWsx"
            }
        },
        {
            "cell_type": "markdown",
            "source": [
                "## 환경설정\n",
                "\n",
                "- PyTorch 버젼 다운그레이드 코드로 인해 세션이 자동으로 한번 꺼질 예정입니다. 다시 실행하면 됩니다."
            ],
            "metadata": {
                "id": "q1KkE8gGscbE"
            }
        },
        {
            "cell_type": "code",
            "source": [
                "# 현 CUDA 버젼 확인\n",
                "!nvcc --version"
            ],
            "metadata": {
                "colab": {
                    "base_uri": "https://localhost:8080/"
                },
                "id": "G3bw5rP_aYC0",
                "executionInfo": {
                    "status": "ok",
                    "timestamp": 0,
                    "user_tz": -540,
                    "elapsed": 418,
                    "user": {
                        "displayName": "",
                        "userId": ""
                    }
                },
                "outputId": "d6e8498a-b09e-49a0-fa06-b7c380b1a4a4"
            },
            "execution_count": 1,
            "outputs": [
                {
                    "output_type": "stream",
                    "name": "stdout",
                    "text": [
                        "nvcc: NVIDIA (R) Cuda compiler driver\n",
                        "Copyright (c) 2005-2023 NVIDIA Corporation\n",
                        "Built on Tue_Aug_15_22:02:13_PDT_2023\n",
                        "Cuda compilation tools, release 12.2, V12.2.140\n",
                        "Build cuda_12.2.r12.2/compiler.33191640_0\n"
                    ]
                }
            ]
        },
        {
            "cell_type": "code",
            "execution_count": 2,
            "metadata": {
                "colab": {
                    "base_uri": "https://localhost:8080/"
                },
                "id": "Eqd2cPUMaUTw",
                "executionInfo": {
                    "status": "ok",
                    "timestamp": 0,
                    "user_tz": -540,
                    "elapsed": 956,
                    "user": {
                        "displayName": "",
                        "userId": ""
                    }
                },
                "outputId": "f8bc507f-869f-4dfd-ba16-bbec3b481a35"
            },
            "outputs": [
                {
                    "output_type": "stream",
                    "name": "stdout",
                    "text": [
                        "PyTorch version is already 1.11.0\n"
                    ]
                }
            ],
            "source": [
                "# 파이썬 버젼 고정\n",
                "import torch\n",
                "\n",
                "# 현 PyTorch 버젼 확인\n",
                "if torch.__version__.split('+')[0] != \"1.11.0\":\n",
                "    print(f\"Current PyTorch version is {torch.__version__}, downgrading to 1.11.0\")\n",
                "\n",
                "    # PyTorch 제거\n",
                "    !pip uninstall torch torchvision -y\n",
                "\n",
                "    # PyTorch 1.11.0 설치\n",
                "    !pip install torch==1.11.0 torchvision==0.12.0 -f https://download.pytorch.org/whl/cu111/torch_stable.html\n",
                "\n",
                "    # 런타임 강제 재시작\n",
                "    import os\n",
                "    os.kill(os.getpid(), 9)\n",
                "else:\n",
                "    print(\"PyTorch version is already 1.11.0\")"
            ]
        },
        {
            "cell_type": "code",
            "source": [
                "!git clone https://github.com/shhommychon/mnist_generative_practice.git\n",
                "\n",
                "import sys\n",
                "sys.path = [\"./mnist_generative_practice\"] + sys.path"
            ],
            "metadata": {
                "id": "HFdGItoHiFW8",
                "executionInfo": {
                    "status": "ok",
                    "timestamp": 0,
                    "user_tz": -540,
                    "elapsed": 633,
                    "user": {
                        "displayName": "",
                        "userId": ""
                    }
                },
                "colab": {
                    "base_uri": "https://localhost:8080/"
                },
                "outputId": "48bb4fe1-24b4-44bc-890b-11497d84b89e"
            },
            "execution_count": 3,
            "outputs": [
                {
                    "output_type": "stream",
                    "name": "stdout",
                    "text": [
                        "Cloning into 'mnist_generative_practice'...\n",
                        "remote: Enumerating objects: 16, done.\u001b[K\n",
                        "remote: Counting objects: 100% (16/16), done.\u001b[K\n",
                        "remote: Compressing objects: 100% (11/11), done.\u001b[K\n",
                        "remote: Total 16 (delta 4), reused 15 (delta 3), pack-reused 0\u001b[K\n",
                        "Receiving objects: 100% (16/16), 7.91 KiB | 7.91 MiB/s, done.\n",
                        "Resolving deltas: 100% (4/4), done.\n"
                    ]
                }
            ]
        },
        {
            "cell_type": "markdown",
            "source": [
                "## 실습 코드"
            ],
            "metadata": {
                "id": "TrnPnDCmsuDt"
            }
        },
        {
            "cell_type": "code",
            "source": [
                "import torch\n",
                "import torch.nn as nn\n",
                "import torch.nn.functional as F\n",
                "\n",
                "from torchvision import transforms\n",
                "import torchvision.datasets as datasets\n",
                "\n",
                "import matplotlib.pyplot as plt\n",
                "import numpy as np"
            ],
            "metadata": {
                "id": "eYMhXv0Wd4Li",
                "executionInfo": {
                    "status": "ok",
                    "timestamp": 0,
                    "user_tz": -540,
                    "elapsed": 273,
                    "user": {
                        "displayName": "",
                        "userId": ""
                    }
                }
            },
            "execution_count": 4,
            "outputs": []
        },
        {
            "cell_type": "markdown",
            "source": [
                "### MNIST 데이터셋 다운로드 및 불러오기\n",
                "\n",
                "- 다운로드 코드 원본: [devnson/mnist_pytorch](https://github.com/devnson/mnist_pytorch?tab=readme-ov-file#downloading-datasets)\n",
                "- 불러오기 코드 원본: [devnson/mnist_pytorch](https://github.com/devnson/mnist_pytorch?tab=readme-ov-file#splitting-datasets)"
            ],
            "metadata": {
                "id": "QNgPSLuCsi8S"
            }
        },
        {
            "cell_type": "code",
            "source": [
                "mnist_trainset = datasets.MNIST(root='./data', train=True, download=True,\n",
                "                      transform=transforms.Compose([transforms.ToTensor()]))\n",
                "mnist_testset = datasets.MNIST(root='./data', train=False, download=True,\n",
                "                      transform=transforms.Compose([transforms.ToTensor()]))\n",
                "\n",
                "mnist_valset, mnist_testset = torch.utils.data.random_split(\n",
                "                                mnist_testset,\n",
                "                                [\n",
                "                                    int(0.9 * len(mnist_testset)),\n",
                "                                    int(0.1 * len(mnist_testset))\n",
                "                                ]\n",
                "                            )\n",
                "train_dataloader = torch.utils.data.DataLoader(mnist_trainset, batch_size=64, shuffle=True)\n",
                "val_dataloader = torch.utils.data.DataLoader(mnist_valset, batch_size=32, shuffle=False)\n",
                "test_dataloader = torch.utils.data.DataLoader(mnist_testset, batch_size=32, shuffle=False)\n",
                "\n",
                "print(\"Training dataset size: \", len(mnist_trainset))\n",
                "print(\"Validation dataset size: \", len(mnist_valset))\n",
                "print(\"Testing dataset size: \", len(mnist_testset))"
            ],
            "metadata": {
                "id": "VNQcucD1eSbI",
                "colab": {
                    "base_uri": "https://localhost:8080/",
                    "height": 484,
                    "referenced_widgets": [
                        "d09f85c371704900b5def36e52279803",
                        "87b57f60a35d47848c38b31a71ae312f",
                        "723b07d353c8427e8545237f856ffc47",
                        "84fbbc21a1644fe788113f4082141972",
                        "9a7e097814374d5f92323e7264a98d23",
                        "7e76f3a9d83f41c1a2ab35690f3714fd",
                        "ec2b2934a22a4c18b36b29f4f3980fc7",
                        "6eb91e8499254a01b802f545fc59a326",
                        "e44ff4ec2edc457488bfc8dad6f7b22c",
                        "554badb4dd3440ac95af5c43c542c661",
                        "5b1ec131b21d4682aa9de8657505f9cd",
                        "1eabdea0aa114988a5b2b8f838fe3666",
                        "e203988f1e5648b496e90b413f1bd2b0",
                        "7880677d48bd48e082137f60bace5ea0",
                        "c1573f5d9e024828af5bd0ee7ab6337d",
                        "e9f30b7e06b0474790c52995731f4f2c",
                        "62765538122f4cbd9766c8f1317464a8",
                        "892b03108d954e99bf9e9d1912b4b8b4",
                        "1430525f1d5e45ba9372d141056ddbf1",
                        "a9103e4c6af249aba0c886830584fbb9",
                        "1dfd80ef62f3420b9606161a12e63c51",
                        "2dbdebdbf28a460fa92d3555d0090be8",
                        "1d1f95376fae433fae4aaa966c20cc72",
                        "46196dc004ec4b4bbf8deb1326d0a67f",
                        "5f4968af33854afa9682177b37440cde",
                        "068f7028c6d74735a731d3260519aeec",
                        "131ff272c41748fea46dd366bf224d8f",
                        "e4f36dfb48344c6e9ded0ad3b08ea45c",
                        "6a137944b7f341dcb257a82db7c306ae",
                        "a23639754c4746e087034c6b526d46ae",
                        "70dc7c19594a47eeac226ff047d7c750",
                        "a5d37d3e98b2417ca69b89a8bcae3668",
                        "20e3c8d6dddd4c47b36365b4b84220af",
                        "36ac6801db2b48af9c7ad9349844b9e5",
                        "8e426ea2874349d5bb35b1701f146414",
                        "ae57821551044007a0a8dc059e162936",
                        "9cf4d15f1c7c4ae5b2b5969096fd1090",
                        "1342997874c643e4a1240e1f5d62742b",
                        "3dc3ca9460eb4a35a07b63a9d6d1323e",
                        "f27cec5283e44f029fff5f29ebe6b497",
                        "abd3d1d24c964e1f9f8037ce9f2f3fcc",
                        "cfc1c16e3f634be383f49ddb7e0093f8",
                        "b75433b736724609913ce9bfdfed3ef4",
                        "6eb41bd8c271443dbaf13530e7589657"
                    ]
                },
                "executionInfo": {
                    "status": "ok",
                    "timestamp": 0,
                    "user_tz": -540,
                    "elapsed": 1325,
                    "user": {
                        "displayName": "",
                        "userId": ""
                    }
                },
                "outputId": "58b1e06a-d5ad-4f0c-99d0-0a39c1a48a36"
            },
            "execution_count": 5,
            "outputs": [
                {
                    "output_type": "stream",
                    "name": "stdout",
                    "text": [
                        "Downloading http://yann.lecun.com/exdb/mnist/train-images-idx3-ubyte.gz\n",
                        "Downloading http://yann.lecun.com/exdb/mnist/train-images-idx3-ubyte.gz to ./data/MNIST/raw/train-images-idx3-ubyte.gz\n"
                    ]
                },
                {
                    "output_type": "display_data",
                    "data": {
                        "text/plain": [
                            "  0%|          | 0/9912422 [00:00<?, ?it/s]"
                        ],
                        "application/vnd.jupyter.widget-view+json": {
                            "version_major": 2,
                            "version_minor": 0,
                            "model_id": "d09f85c371704900b5def36e52279803"
                        }
                    },
                    "metadata": {}
                },
                {
                    "output_type": "stream",
                    "name": "stdout",
                    "text": [
                        "Extracting ./data/MNIST/raw/train-images-idx3-ubyte.gz to ./data/MNIST/raw\n",
                        "\n",
                        "Downloading http://yann.lecun.com/exdb/mnist/train-labels-idx1-ubyte.gz\n",
                        "Downloading http://yann.lecun.com/exdb/mnist/train-labels-idx1-ubyte.gz to ./data/MNIST/raw/train-labels-idx1-ubyte.gz\n"
                    ]
                },
                {
                    "output_type": "display_data",
                    "data": {
                        "text/plain": [
                            "  0%|          | 0/28881 [00:00<?, ?it/s]"
                        ],
                        "application/vnd.jupyter.widget-view+json": {
                            "version_major": 2,
                            "version_minor": 0,
                            "model_id": "1eabdea0aa114988a5b2b8f838fe3666"
                        }
                    },
                    "metadata": {}
                },
                {
                    "output_type": "stream",
                    "name": "stdout",
                    "text": [
                        "Extracting ./data/MNIST/raw/train-labels-idx1-ubyte.gz to ./data/MNIST/raw\n",
                        "\n",
                        "Downloading http://yann.lecun.com/exdb/mnist/t10k-images-idx3-ubyte.gz\n",
                        "Downloading http://yann.lecun.com/exdb/mnist/t10k-images-idx3-ubyte.gz to ./data/MNIST/raw/t10k-images-idx3-ubyte.gz\n"
                    ]
                },
                {
                    "output_type": "display_data",
                    "data": {
                        "text/plain": [
                            "  0%|          | 0/1648877 [00:00<?, ?it/s]"
                        ],
                        "application/vnd.jupyter.widget-view+json": {
                            "version_major": 2,
                            "version_minor": 0,
                            "model_id": "1d1f95376fae433fae4aaa966c20cc72"
                        }
                    },
                    "metadata": {}
                },
                {
                    "output_type": "stream",
                    "name": "stdout",
                    "text": [
                        "Extracting ./data/MNIST/raw/t10k-images-idx3-ubyte.gz to ./data/MNIST/raw\n",
                        "\n",
                        "Downloading http://yann.lecun.com/exdb/mnist/t10k-labels-idx1-ubyte.gz\n",
                        "Downloading http://yann.lecun.com/exdb/mnist/t10k-labels-idx1-ubyte.gz to ./data/MNIST/raw/t10k-labels-idx1-ubyte.gz\n"
                    ]
                },
                {
                    "output_type": "display_data",
                    "data": {
                        "text/plain": [
                            "  0%|          | 0/4542 [00:00<?, ?it/s]"
                        ],
                        "application/vnd.jupyter.widget-view+json": {
                            "version_major": 2,
                            "version_minor": 0,
                            "model_id": "36ac6801db2b48af9c7ad9349844b9e5"
                        }
                    },
                    "metadata": {}
                },
                {
                    "output_type": "stream",
                    "name": "stdout",
                    "text": [
                        "Extracting ./data/MNIST/raw/t10k-labels-idx1-ubyte.gz to ./data/MNIST/raw\n",
                        "\n",
                        "Training dataset size:  60000\n",
                        "Validation dataset size:  9000\n",
                        "Testing dataset size:  1000\n"
                    ]
                }
            ]
        },
        {
            "cell_type": "markdown",
            "source": [
                "### 모델 및 손실함수/옵티마이저 등 설정"
            ],
            "metadata": {
                "id": "E7Nt5u8Eaa7K"
            }
        },
        {
            "cell_type": "code",
            "source": [
                "from models.vae import MNISTVae\n",
                "\n",
                "model = MNISTVae()\n",
                "\n",
                "if (torch.cuda.is_available()): model.cuda()\n",
                "\n",
                "model"
            ],
            "metadata": {
                "id": "c3_nlyuWeo6E",
                "executionInfo": {
                    "status": "ok",
                    "timestamp": 0,
                    "user_tz": -540,
                    "elapsed": 6223,
                    "user": {
                        "displayName": "",
                        "userId": ""
                    }
                },
                "colab": {
                    "base_uri": "https://localhost:8080/"
                },
                "outputId": "21651d3f-232e-417b-8ee9-8359d1b07c7c"
            },
            "execution_count": 6,
            "outputs": [
                {
                    "output_type": "execute_result",
                    "data": {
                        "text/plain": [
                            "MNISTVae(\n",
                            "  (label_emb): Embedding(10, 16)\n",
                            "  (fc_mu): Linear(in_features=784, out_features=96, bias=True)\n",
                            "  (fc_logvar): Linear(in_features=784, out_features=96, bias=True)\n",
                            "  (linear): Linear(in_features=112, out_features=784, bias=True)\n",
                            "  (conv_1): Conv2d(1, 32, kernel_size=(3, 3), stride=(1, 1), padding=(1, 1))\n",
                            "  (conv_2): Conv2d(32, 32, kernel_size=(3, 3), stride=(1, 1), padding=(1, 1))\n",
                            "  (conv_3): Conv2d(32, 1, kernel_size=(3, 3), stride=(1, 1), padding=(1, 1))\n",
                            "  (relu): ReLU()\n",
                            "  (tanh): Tanh()\n",
                            ")"
                        ]
                    },
                    "metadata": {},
                    "execution_count": 6
                }
            ]
        },
        {
            "cell_type": "code",
            "source": [
                "def latent_loss(mu, logvar):\n",
                "    kl_divergence = -0.5 * torch.sum(1 + logvar - mu.pow(2) - logvar.exp())\n",
                "    return kl_divergence\n",
                "\n",
                "pixelwise_loss = nn.L1Loss()\n",
                "\n",
                "lr=0.0001\n",
                "optimizer = torch.optim.Adam(model.parameters(), lr=lr)\n",
                "\n",
                "decay_rate = 0.99\n",
                "scheduler = torch.optim.lr_scheduler.ExponentialLR(optimizer, gamma=decay_rate)\n",
                "\n",
                "max_epochs = 100\n",
                "best_val_loss = 100\n",
                "max_patience = 7"
            ],
            "metadata": {
                "id": "scsHSzCVm78o",
                "executionInfo": {
                    "status": "ok",
                    "timestamp": 0,
                    "user_tz": -540,
                    "elapsed": 278,
                    "user": {
                        "displayName": "",
                        "userId": ""
                    }
                }
            },
            "execution_count": 7,
            "outputs": []
        },
        {
            "cell_type": "markdown",
            "source": [
                "### 이미지 생성 코드\n",
                "\n",
                "- 학습 중간 확인 용도"
            ],
            "metadata": {
                "id": "fzbre32IayDY"
            }
        },
        {
            "cell_type": "code",
            "source": [
                "def generate_images(model, latent, class_label):\n",
                "    model.eval()\n",
                "    with torch.no_grad():\n",
                "        latent = latent.to(device)\n",
                "        class_label = class_label.to(device)\n",
                "        images = model.decode(latent, class_label)\n",
                "    return images"
            ],
            "metadata": {
                "id": "Ts2V9KBpa6AV",
                "executionInfo": {
                    "status": "ok",
                    "timestamp": 0,
                    "user_tz": -540,
                    "elapsed": 271,
                    "user": {
                        "displayName": "",
                        "userId": ""
                    }
                }
            },
            "execution_count": 8,
            "outputs": []
        },
        {
            "cell_type": "markdown",
            "source": [
                "### 모델 학습 코드"
            ],
            "metadata": {
                "id": "Lv9Yqz02a01P"
            }
        },
        {
            "cell_type": "code",
            "source": [
                "device = \"cuda\" if (torch.cuda.is_available()) else \"cpu\"\n",
                "patience = max_patience\n",
                "for epoch in range(max_epochs):\n",
                "    total_train_loss = {\n",
                "        \"loss_kldiv\": 0,\n",
                "        \"loss_pixel\": 0,\n",
                "        \"loss_total\": 0,\n",
                "    }\n",
                "    total_val_loss = {\n",
                "        \"loss_kldiv\": 0,\n",
                "        \"loss_pixel\": 0,\n",
                "        \"loss_total\": 0,\n",
                "    }\n",
                "\n",
                "    model.train()\n",
                "\n",
                "    # training\n",
                "    for iter, (image, label) in enumerate(train_dataloader):\n",
                "        image = image.to(device)\n",
                "        label = label.to(device)\n",
                "\n",
                "        # optimizing gradients to zero before training\n",
                "        optimizer.zero_grad()\n",
                "\n",
                "        recon_image, mu, logvar = model(image, label)\n",
                "\n",
                "        ## latent loss\n",
                "        train_loss_kldiv = latent_loss(mu, logvar)\n",
                "\n",
                "        ## reconstruction loss\n",
                "        train_loss_pixel = pixelwise_loss(recon_image, image)\n",
                "\n",
                "        # Update the autoencoder weights\n",
                "        this_train_loss = 0.001 * train_loss_kldiv + 10 * train_loss_pixel\n",
                "        this_train_loss.backward()\n",
                "        optimizer.step()\n",
                "\n",
                "\n",
                "        total_train_loss[\"loss_kldiv\"] += train_loss_kldiv.item()\n",
                "        total_train_loss[\"loss_pixel\"] += train_loss_pixel.item()\n",
                "        total_train_loss[\"loss_total\"] += this_train_loss.item()\n",
                "\n",
                "    # Step the learning rate schedulers\n",
                "    scheduler.step()\n",
                "\n",
                "    total_train_loss = { k: train_loss / (iter + 1) for k, train_loss\n",
                "                                                in total_train_loss.items() }\n",
                "\n",
                "    # validation\n",
                "    model.eval()\n",
                "\n",
                "    for iter, (image, label) in enumerate(val_dataloader):\n",
                "        image = image.to(device)\n",
                "        label = label.to(device)\n",
                "\n",
                "        recon_image, mu, logvar = model(image, label)\n",
                "\n",
                "        ## latent loss\n",
                "        val_loss_kldiv = latent_loss(mu, logvar)\n",
                "\n",
                "        ## reconstruction loss\n",
                "        val_loss_pixel = pixelwise_loss(recon_image, image)\n",
                "\n",
                "        # Update the autoencoder weights\n",
                "        this_val_loss = 0.001 * val_loss_kldiv + 10 * val_loss_pixel\n",
                "        this_val_loss.backward()\n",
                "        optimizer.step()\n",
                "\n",
                "\n",
                "        total_val_loss[\"loss_kldiv\"] += val_loss_kldiv.item()\n",
                "        total_val_loss[\"loss_pixel\"] += val_loss_pixel.item()\n",
                "        total_val_loss[\"loss_total\"] += this_val_loss.item()\n",
                "\n",
                "    total_val_loss = { k: val_loss / (iter + 1) for k, val_loss\n",
                "                                                in total_val_loss.items() }\n",
                "\n",
                "    print(f\"\\nEpoch: {epoch+1}/{max_epochs},\"\n",
                "          f\"\\n\\tTrain Loss: {total_train_loss['loss_total']:.8f}\"\n",
                "          f\"\\n\\t\\tkl divergence loss: {total_train_loss['loss_kldiv']:.8f}\"\n",
                "          f\"\\n\\t\\tpixelwise loss: {total_train_loss['loss_pixel']:.8f}\"\n",
                "          f\"\\n\\tVal Loss: {total_val_loss['loss_total']:.8f}\"\n",
                "          f\"\\n\\t\\tkl divergence loss: {total_val_loss['loss_kldiv']:.8f}\"\n",
                "          f\"\\n\\t\\tpixelwise loss: {total_val_loss['loss_pixel']:.8f}\")\n",
                "\n",
                "    z_noise = torch.randn(1, 96).repeat(10, 1)\n",
                "    class_label = torch.tensor([ n for n in range(10) ])\n",
                "    result = generate_images(model, z_noise, class_label).cpu().detach().numpy()\n",
                "\n",
                "    fig, ax = plt.subplots(nrows=1, ncols=10)\n",
                "    for i, image in enumerate(result):\n",
                "        plt.subplot(1, 10, i+1)\n",
                "        plt.imshow(image.reshape(28, 28), cmap=\"gray\")\n",
                "        plt.axis(\"off\")\n",
                "    plt.show()\n",
                "    plt.clf()\n",
                "\n",
                "    if total_val_loss[\"loss_total\"] < best_val_loss:\n",
                "        best_val_loss = total_val_loss[\"loss_total\"]\n",
                "        print(f\"\\tSaving the model state dictionary for Epoch: {epoch+1} with Validation loss: {best_val_loss:.8f}\")\n",
                "        torch.save(model.state_dict(), \"mnist_vae.dth\")\n",
                "        patience = max_patience\n",
                "    else:\n",
                "        patience -= 1\n",
                "        print(f\"\\tLoss not decreased. Will wait for {patience} more epochs...\")\n",
                "\n",
                "    if patience <= 0: break\n"
            ],
            "metadata": {
                "colab": {
                    "base_uri": "https://localhost:8080/",
                    "height": 1000
                },
                "id": "ayUV-an6iPqR",
                "executionInfo": {
                    "status": "ok",
                    "timestamp": 0,
                    "user_tz": -540,
                    "elapsed": 201709,
                    "user": {
                        "displayName": "",
                        "userId": ""
                    }
                },
                "outputId": "cdc44eef-779b-40d0-a51c-d6aea323d383"
            },
            "execution_count": 9,
            "outputs": [
                {
                    "output_type": "stream",
                    "name": "stdout",
                    "text": [
                        "\n",
                        "Epoch: 1/100,\n",
                        "\tTrain Loss: 1.46340998\n",
                        "\t\tkl divergence loss: 22.08931022\n",
                        "\t\tpixelwise loss: 0.14413207\n",
                        "\tVal Loss: 3.39232581\n",
                        "\t\tkl divergence loss: 1060.21386165\n",
                        "\t\tpixelwise loss: 0.23321119\n"
                    ]
                },
                {
                    "output_type": "display_data",
                    "data": {
                        "text/plain": [
                            "<Figure size 640x480 with 10 Axes>"
                        ],
                        "image/png": "[encoded data removed]"
                    },
                    "metadata": {}
                },
                {
                    "output_type": "stream",
                    "name": "stdout",
                    "text": [
                        "\tSaving the model state dictionary for Epoch: 1 with Validation loss: 3.39232581\n",
                        "\n",
                        "Epoch: 2/100,\n",
                        "\tTrain Loss: 3.14825614\n",
                        "\t\tkl divergence loss: 1087.40036350\n",
                        "\t\tpixelwise loss: 0.20608557\n",
                        "\tVal Loss: 3.01052487\n",
                        "\t\tkl divergence loss: 869.78038090\n",
                        "\t\tpixelwise loss: 0.21407444\n"
                    ]
                },
                {
                    "output_type": "display_data",
                    "data": {
                        "text/plain": [
                            "<Figure size 640x480 with 0 Axes>"
                        ]
                    },
                    "metadata": {}
                },
                {
                    "output_type": "display_data",
                    "data": {
                        "text/plain": [
                            "<Figure size 640x480 with 10 Axes>"
                        ],
                        "image/png": "[encoded data removed]"
                    },
                    "metadata": {}
                },
                {
                    "output_type": "stream",
                    "name": "stdout",
                    "text": [
                        "\tSaving the model state dictionary for Epoch: 2 with Validation loss: 3.01052487\n",
                        "\n",
                        "Epoch: 3/100,\n",
                        "\tTrain Loss: 3.52565149\n",
                        "\t\tkl divergence loss: 1961.48489328\n",
                        "\t\tpixelwise loss: 0.15641665\n",
                        "\tVal Loss: 1.65591755\n",
                        "\t\tkl divergence loss: 310.27524104\n",
                        "\t\tpixelwise loss: 0.13456423\n"
                    ]
                },
                {
                    "output_type": "display_data",
                    "data": {
                        "text/plain": [
                            "<Figure size 640x480 with 0 Axes>"
                        ]
                    },
                    "metadata": {}
                },
                {
                    "output_type": "display_data",
                    "data": {
                        "text/plain": [
                            "<Figure size 640x480 with 10 Axes>"
                        ],
                        "image/png": "[encoded data removed]"
                    },
                    "metadata": {}
                },
                {
                    "output_type": "stream",
                    "name": "stdout",
                    "text": [
                        "\tSaving the model state dictionary for Epoch: 3 with Validation loss: 1.65591755\n",
                        "\n",
                        "Epoch: 4/100,\n",
                        "\tTrain Loss: 1.79449025\n",
                        "\t\tkl divergence loss: 593.19529417\n",
                        "\t\tpixelwise loss: 0.12012949\n",
                        "\tVal Loss: 1.22327472\n",
                        "\t\tkl divergence loss: 91.45398928\n",
                        "\t\tpixelwise loss: 0.11318207\n"
                    ]
                },
                {
                    "output_type": "display_data",
                    "data": {
                        "text/plain": [
                            "<Figure size 640x480 with 0 Axes>"
                        ]
                    },
                    "metadata": {}
                },
                {
                    "output_type": "display_data",
                    "data": {
                        "text/plain": [
                            "<Figure size 640x480 with 10 Axes>"
                        ],
                        "image/png": "[encoded data removed]"
                    },
                    "metadata": {}
                },
                {
                    "output_type": "stream",
                    "name": "stdout",
                    "text": [
                        "\tSaving the model state dictionary for Epoch: 4 with Validation loss: 1.22327472\n",
                        "\n",
                        "Epoch: 5/100,\n",
                        "\tTrain Loss: 1.28807663\n",
                        "\t\tkl divergence loss: 197.27341390\n",
                        "\t\tpixelwise loss: 0.10908032\n",
                        "\tVal Loss: 1.15213023\n",
                        "\t\tkl divergence loss: 78.76932093\n",
                        "\t\tpixelwise loss: 0.10733609\n"
                    ]
                },
                {
                    "output_type": "display_data",
                    "data": {
                        "text/plain": [
                            "<Figure size 640x480 with 0 Axes>"
                        ]
                    },
                    "metadata": {}
                },
                {
                    "output_type": "display_data",
                    "data": {
                        "text/plain": [
                            "<Figure size 640x480 with 10 Axes>"
                        ],
                        "image/png": "[encoded data removed]"
                    },
                    "metadata": {}
                },
                {
                    "output_type": "stream",
                    "name": "stdout",
                    "text": [
                        "\tSaving the model state dictionary for Epoch: 5 with Validation loss: 1.15213023\n",
                        "\n",
                        "Epoch: 6/100,\n",
                        "\tTrain Loss: 1.20542153\n",
                        "\t\tkl divergence loss: 115.48603851\n",
                        "\t\tpixelwise loss: 0.10899355\n",
                        "\tVal Loss: 1.15045549\n",
                        "\t\tkl divergence loss: 99.82773467\n",
                        "\t\tpixelwise loss: 0.10506277\n"
                    ]
                },
                {
                    "output_type": "display_data",
                    "data": {
                        "text/plain": [
                            "<Figure size 640x480 with 0 Axes>"
                        ]
                    },
                    "metadata": {}
                },
                {
                    "output_type": "display_data",
                    "data": {
                        "text/plain": [
                            "<Figure size 640x480 with 10 Axes>"
                        ],
                        "image/png": "[encoded data removed]"
                    },
                    "metadata": {}
                },
                {
                    "output_type": "stream",
                    "name": "stdout",
                    "text": [
                        "\tSaving the model state dictionary for Epoch: 6 with Validation loss: 1.15045549\n",
                        "\n",
                        "Epoch: 7/100,\n",
                        "\tTrain Loss: 1.21401589\n",
                        "\t\tkl divergence loss: 182.14443771\n",
                        "\t\tpixelwise loss: 0.10318714\n",
                        "\tVal Loss: 1.29968573\n",
                        "\t\tkl divergence loss: 269.04116686\n",
                        "\t\tpixelwise loss: 0.10306446\n"
                    ]
                },
                {
                    "output_type": "display_data",
                    "data": {
                        "text/plain": [
                            "<Figure size 640x480 with 0 Axes>"
                        ]
                    },
                    "metadata": {}
                },
                {
                    "output_type": "display_data",
                    "data": {
                        "text/plain": [
                            "<Figure size 640x480 with 10 Axes>"
                        ],
                        "image/png": "[encoded data removed]"
                    },
                    "metadata": {}
                },
                {
                    "output_type": "stream",
                    "name": "stdout",
                    "text": [
                        "\tLoss not decreased. Will wait for 6 more epochs...\n",
                        "\n",
                        "Epoch: 8/100,\n",
                        "\tTrain Loss: 1.46337418\n",
                        "\t\tkl divergence loss: 423.69370057\n",
                        "\t\tpixelwise loss: 0.10396805\n",
                        "\tVal Loss: 1.42998026\n",
                        "\t\tkl divergence loss: 430.72508336\n",
                        "\t\tpixelwise loss: 0.09992552\n"
                    ]
                },
                {
                    "output_type": "display_data",
                    "data": {
                        "text/plain": [
                            "<Figure size 640x480 with 0 Axes>"
                        ]
                    },
                    "metadata": {}
                },
                {
                    "output_type": "display_data",
                    "data": {
                        "text/plain": [
                            "<Figure size 640x480 with 10 Axes>"
                        ],
                        "image/png": "[encoded data removed]"
                    },
                    "metadata": {}
                },
                {
                    "output_type": "stream",
                    "name": "stdout",
                    "text": [
                        "\tLoss not decreased. Will wait for 5 more epochs...\n",
                        "\n",
                        "Epoch: 9/100,\n",
                        "\tTrain Loss: 1.68745277\n",
                        "\t\tkl divergence loss: 699.46330729\n",
                        "\t\tpixelwise loss: 0.09879894\n",
                        "\tVal Loss: 1.13445927\n",
                        "\t\tkl divergence loss: 188.02878780\n",
                        "\t\tpixelwise loss: 0.09464305\n"
                    ]
                },
                {
                    "output_type": "display_data",
                    "data": {
                        "text/plain": [
                            "<Figure size 640x480 with 0 Axes>"
                        ]
                    },
                    "metadata": {}
                },
                {
                    "output_type": "display_data",
                    "data": {
                        "text/plain": [
                            "<Figure size 640x480 with 10 Axes>"
                        ],
                        "image/png": "[encoded data removed]"
                    },
                    "metadata": {}
                },
                {
                    "output_type": "stream",
                    "name": "stdout",
                    "text": [
                        "\tSaving the model state dictionary for Epoch: 9 with Validation loss: 1.13445927\n",
                        "\n",
                        "Epoch: 10/100,\n",
                        "\tTrain Loss: 1.26906962\n",
                        "\t\tkl divergence loss: 340.68619458\n",
                        "\t\tpixelwise loss: 0.09283834\n",
                        "\tVal Loss: 1.22401838\n",
                        "\t\tkl divergence loss: 287.64672811\n",
                        "\t\tpixelwise loss: 0.09363716\n"
                    ]
                },
                {
                    "output_type": "display_data",
                    "data": {
                        "text/plain": [
                            "<Figure size 640x480 with 0 Axes>"
                        ]
                    },
                    "metadata": {}
                },
                {
                    "output_type": "display_data",
                    "data": {
                        "text/plain": [
                            "<Figure size 640x480 with 10 Axes>"
                        ],
                        "image/png": "[encoded data removed]"
                    },
                    "metadata": {}
                },
                {
                    "output_type": "stream",
                    "name": "stdout",
                    "text": [
                        "\tLoss not decreased. Will wait for 6 more epochs...\n",
                        "\n",
                        "Epoch: 11/100,\n",
                        "\tTrain Loss: 1.47322324\n",
                        "\t\tkl divergence loss: 498.38476610\n",
                        "\t\tpixelwise loss: 0.09748385\n",
                        "\tVal Loss: 1.27317063\n",
                        "\t\tkl divergence loss: 327.36961052\n",
                        "\t\tpixelwise loss: 0.09458010\n"
                    ]
                },
                {
                    "output_type": "display_data",
                    "data": {
                        "text/plain": [
                            "<Figure size 640x480 with 0 Axes>"
                        ]
                    },
                    "metadata": {}
                },
                {
                    "output_type": "display_data",
                    "data": {
                        "text/plain": [
                            "<Figure size 640x480 with 10 Axes>"
                        ],
                        "image/png": "[encoded data removed]"
                    },
                    "metadata": {}
                },
                {
                    "output_type": "stream",
                    "name": "stdout",
                    "text": [
                        "\tLoss not decreased. Will wait for 5 more epochs...\n",
                        "\n",
                        "Epoch: 12/100,\n",
                        "\tTrain Loss: 1.46004101\n",
                        "\t\tkl divergence loss: 529.84411709\n",
                        "\t\tpixelwise loss: 0.09301969\n",
                        "\tVal Loss: 1.14875464\n",
                        "\t\tkl divergence loss: 230.57216452\n",
                        "\t\tpixelwise loss: 0.09181825\n"
                    ]
                },
                {
                    "output_type": "display_data",
                    "data": {
                        "text/plain": [
                            "<Figure size 640x480 with 0 Axes>"
                        ]
                    },
                    "metadata": {}
                },
                {
                    "output_type": "display_data",
                    "data": {
                        "text/plain": [
                            "<Figure size 640x480 with 10 Axes>"
                        ],
                        "image/png": "[encoded data removed]"
                    },
                    "metadata": {}
                },
                {
                    "output_type": "stream",
                    "name": "stdout",
                    "text": [
                        "\tLoss not decreased. Will wait for 4 more epochs...\n",
                        "\n",
                        "Epoch: 13/100,\n",
                        "\tTrain Loss: 1.38570752\n",
                        "\t\tkl divergence loss: 420.71818850\n",
                        "\t\tpixelwise loss: 0.09649893\n",
                        "\tVal Loss: 1.18457614\n",
                        "\t\tkl divergence loss: 262.20983411\n",
                        "\t\tpixelwise loss: 0.09223663\n"
                    ]
                },
                {
                    "output_type": "display_data",
                    "data": {
                        "text/plain": [
                            "<Figure size 640x480 with 0 Axes>"
                        ]
                    },
                    "metadata": {}
                },
                {
                    "output_type": "display_data",
                    "data": {
                        "text/plain": [
                            "<Figure size 640x480 with 10 Axes>"
                        ],
                        "image/png": "[encoded data removed]"
                    },
                    "metadata": {}
                },
                {
                    "output_type": "stream",
                    "name": "stdout",
                    "text": [
                        "\tLoss not decreased. Will wait for 3 more epochs...\n",
                        "\n",
                        "Epoch: 14/100,\n",
                        "\tTrain Loss: 1.45759875\n",
                        "\t\tkl divergence loss: 544.00348480\n",
                        "\t\tpixelwise loss: 0.09135952\n",
                        "\tVal Loss: 1.18710520\n",
                        "\t\tkl divergence loss: 276.00636402\n",
                        "\t\tpixelwise loss: 0.09110988\n"
                    ]
                },
                {
                    "output_type": "display_data",
                    "data": {
                        "text/plain": [
                            "<Figure size 640x480 with 0 Axes>"
                        ]
                    },
                    "metadata": {}
                },
                {
                    "output_type": "display_data",
                    "data": {
                        "text/plain": [
                            "<Figure size 640x480 with 10 Axes>"
                        ],
                        "image/png": "[encoded data removed]"
                    },
                    "metadata": {}
                },
                {
                    "output_type": "stream",
                    "name": "stdout",
                    "text": [
                        "\tLoss not decreased. Will wait for 2 more epochs...\n",
                        "\n",
                        "Epoch: 15/100,\n",
                        "\tTrain Loss: 1.37444947\n",
                        "\t\tkl divergence loss: 461.05554254\n",
                        "\t\tpixelwise loss: 0.09133939\n",
                        "\tVal Loss: 1.18533202\n",
                        "\t\tkl divergence loss: 287.10846767\n",
                        "\t\tpixelwise loss: 0.08982235\n"
                    ]
                },
                {
                    "output_type": "display_data",
                    "data": {
                        "text/plain": [
                            "<Figure size 640x480 with 0 Axes>"
                        ]
                    },
                    "metadata": {}
                },
                {
                    "output_type": "display_data",
                    "data": {
                        "text/plain": [
                            "<Figure size 640x480 with 10 Axes>"
                        ],
                        "image/png": "[encoded data removed]"
                    },
                    "metadata": {}
                },
                {
                    "output_type": "stream",
                    "name": "stdout",
                    "text": [
                        "\tLoss not decreased. Will wait for 1 more epochs...\n",
                        "\n",
                        "Epoch: 16/100,\n",
                        "\tTrain Loss: 1.46561527\n",
                        "\t\tkl divergence loss: 568.15025863\n",
                        "\t\tpixelwise loss: 0.08974650\n",
                        "\tVal Loss: 1.18708955\n",
                        "\t\tkl divergence loss: 284.56090911\n",
                        "\t\tpixelwise loss: 0.09025286\n"
                    ]
                },
                {
                    "output_type": "display_data",
                    "data": {
                        "text/plain": [
                            "<Figure size 640x480 with 0 Axes>"
                        ]
                    },
                    "metadata": {}
                },
                {
                    "output_type": "display_data",
                    "data": {
                        "text/plain": [
                            "<Figure size 640x480 with 10 Axes>"
                        ],
                        "image/png": "[encoded data removed]"
                    },
                    "metadata": {}
                },
                {
                    "output_type": "stream",
                    "name": "stdout",
                    "text": [
                        "\tLoss not decreased. Will wait for 0 more epochs...\n"
                    ]
                },
                {
                    "output_type": "display_data",
                    "data": {
                        "text/plain": [
                            "<Figure size 640x480 with 0 Axes>"
                        ]
                    },
                    "metadata": {}
                }
            ]
        },
        {
            "cell_type": "markdown",
            "source": [
                "### 사전학습 모델 불러오기\n",
                "\n",
                "- 위 모델 학습 코드를 실행하기 귀찮을 경우에만 이 셀을 실행"
            ],
            "metadata": {
                "id": "A2y3bRn9bKbD"
            }
        },
        {
            "cell_type": "code",
            "source": [
                "!apt install megatools\n",
                "\n",
                "# mnist_vae.dth\n",
                "!megadl 'https://mega.nz/file/PoUSCLgK#xjyW2dyY_TbrztxZhB97ssCnY48zBHv9GYiaMnx3sgc'"
            ],
            "metadata": {
                "colab": {
                    "base_uri": "https://localhost:8080/"
                },
                "id": "Dsi5SBaxbLXs",
                "executionInfo": {
                    "status": "ok",
                    "timestamp": 0,
                    "user_tz": -540,
                    "elapsed": 7927,
                    "user": {
                        "displayName": "",
                        "userId": ""
                    }
                },
                "outputId": "c3fa72f3-9fa8-47f0-a6e1-45f3697714f7"
            },
            "execution_count": 9,
            "outputs": [
                {
                    "output_type": "stream",
                    "name": "stdout",
                    "text": [
                        "Reading package lists... Done\n",
                        "Building dependency tree... Done\n",
                        "Reading state information... Done\n",
                        "The following NEW packages will be installed:\n",
                        "  megatools\n",
                        "0 upgraded, 1 newly installed, 0 to remove and 31 not upgraded.\n",
                        "Need to get 207 kB of archives.\n",
                        "After this operation, 898 kB of additional disk space will be used.\n",
                        "Get:1 http://archive.ubuntu.com/ubuntu jammy/universe amd64 megatools amd64 1.10.3-1build1 [207 kB]\n",
                        "Fetched 207 kB in 0s (541 kB/s)\n",
                        "Selecting previously unselected package megatools.\n",
                        "(Reading database ... 121671 files and directories currently installed.)\n",
                        "Preparing to unpack .../megatools_1.10.3-1build1_amd64.deb ...\n",
                        "Unpacking megatools (1.10.3-1build1) ...\n",
                        "Setting up megatools (1.10.3-1build1) ...\n",
                        "Processing triggers for man-db (2.10.2-1) ...\n",
                        "\u001b[0KDownloaded mnist_vae.dth\n"
                    ]
                }
            ]
        },
        {
            "cell_type": "markdown",
            "source": [
                "### 학습 모델 테스트"
            ],
            "metadata": {
                "id": "MJsUP4jFbbRr"
            }
        },
        {
            "cell_type": "code",
            "source": [
                "device = \"cuda\" if (torch.cuda.is_available()) else \"cpu\"\n",
                "\n",
                "model = MNISTVae()\n",
                "model.load_state_dict(torch.load(\"mnist_vae.dth\"))\n",
                "\n",
                "if (torch.cuda.is_available()): model.cuda()\n",
                "\n",
                "model.eval()"
            ],
            "metadata": {
                "colab": {
                    "base_uri": "https://localhost:8080/"
                },
                "id": "PZDucaQIiQVa",
                "executionInfo": {
                    "status": "ok",
                    "timestamp": 0,
                    "user_tz": -540,
                    "elapsed": 303,
                    "user": {
                        "displayName": "",
                        "userId": ""
                    }
                },
                "outputId": "5046035a-195c-4e56-981b-68a42511b846"
            },
            "execution_count": 10,
            "outputs": [
                {
                    "output_type": "execute_result",
                    "data": {
                        "text/plain": [
                            "MNISTVae(\n",
                            "  (label_emb): Embedding(10, 16)\n",
                            "  (fc_mu): Linear(in_features=784, out_features=96, bias=True)\n",
                            "  (fc_logvar): Linear(in_features=784, out_features=96, bias=True)\n",
                            "  (linear): Linear(in_features=112, out_features=784, bias=True)\n",
                            "  (conv_1): Conv2d(1, 32, kernel_size=(3, 3), stride=(1, 1), padding=(1, 1))\n",
                            "  (conv_2): Conv2d(32, 32, kernel_size=(3, 3), stride=(1, 1), padding=(1, 1))\n",
                            "  (conv_3): Conv2d(32, 1, kernel_size=(3, 3), stride=(1, 1), padding=(1, 1))\n",
                            "  (relu): ReLU()\n",
                            "  (tanh): Tanh()\n",
                            ")"
                        ]
                    },
                    "metadata": {},
                    "execution_count": 10
                }
            ]
        },
        {
            "cell_type": "code",
            "source": [
                "# MNIST 데이터셋 실제 샘플들 및 생성 결과들 저장\n",
                "\n",
                "original = [ None for _ in range(10) ]\n",
                "\n",
                "# store original image examples\n",
                "stop = False\n",
                "for iter, (image_batch, label_batch) in enumerate(test_dataloader):\n",
                "    for image, label in zip(image_batch, label_batch):\n",
                "\n",
                "        label = label.item()\n",
                "\n",
                "        if original[label] is None:\n",
                "            original[label] = image.data\n",
                "\n",
                "        if None not in original:\n",
                "            stop = True\n",
                "            break\n",
                "\n",
                "    if stop: break\n",
                "\n",
                "z_noise = torch.randn(1, 96).repeat(10, 1) # 동일 노이즈\n",
                "class_label = torch.tensor([ n for n in range(10) ])\n",
                "result1 = generate_images(model, z_noise, class_label).cpu().detach().numpy() # from noise 1\n",
                "\n",
                "z_noise = torch.randn(1, 96).repeat(10, 1) # 동일 노이즈\n",
                "class_label = torch.tensor([ n for n in range(10) ])\n",
                "result2 = generate_images(model, z_noise, class_label).cpu().detach().numpy() # from noise 2\n",
                "\n",
                "z_noise = torch.randn(1, 96).repeat(10, 1) # 동일 노이즈\n",
                "class_label = torch.tensor([ n for n in range(10) ])\n",
                "result3 = generate_images(model, z_noise, class_label).cpu().detach().numpy() # from noise 3\n",
                "\n",
                "z_noise = torch.randn(1, 96).repeat(10, 1) # 동일 노이즈\n",
                "class_label = torch.tensor([ n for n in range(10) ])\n",
                "result4 = generate_images(model, z_noise, class_label).cpu().detach().numpy() # from noise 4\n",
                "\n",
                "\n",
                "# MNIST 데이터셋 실제 샘플들 및 생성 결과들 시각화\n",
                "\n",
                "image_dim=28\n",
                "fig, ax = plt.subplots(nrows=5, ncols=10)\n",
                "\n",
                "for i, image in enumerate(original):\n",
                "    plt.subplot(5, 10, 1*10-(9-i))\n",
                "    plt.imshow(image.reshape(image_dim, image_dim), cmap=\"gray\")\n",
                "    plt.axis(\"off\")\n",
                "\n",
                "for i, image in enumerate(result1):\n",
                "    plt.subplot(5, 10, 2*10-(9-i))\n",
                "    plt.imshow(image.reshape(image_dim, image_dim), cmap=\"gray\")\n",
                "    plt.axis(\"off\")\n",
                "\n",
                "for i, image in enumerate(result2):\n",
                "    plt.subplot(5, 10, 3*10-(9-i))\n",
                "    plt.imshow(image.reshape(image_dim, image_dim), cmap=\"gray\")\n",
                "    plt.axis(\"off\")\n",
                "\n",
                "for i, image in enumerate(result3):\n",
                "    plt.subplot(5, 10, 4*10-(9-i))\n",
                "    plt.imshow(image.reshape(image_dim, image_dim), cmap=\"gray\")\n",
                "    plt.axis(\"off\")\n",
                "\n",
                "for i, image in enumerate(result4):\n",
                "    plt.subplot(5, 10, 5*10-(9-i))\n",
                "    plt.imshow(image.reshape(image_dim, image_dim), cmap=\"gray\")\n",
                "    plt.axis(\"off\")\n",
                "\n",
                "plt.show()"
            ],
            "metadata": {
                "colab": {
                    "base_uri": "https://localhost:8080/",
                    "height": 384
                },
                "id": "t-OttUrJTAsQ",
                "executionInfo": {
                    "status": "ok",
                    "timestamp": 0,
                    "user_tz": -540,
                    "elapsed": 2254,
                    "user": {
                        "displayName": "",
                        "userId": ""
                    }
                },
                "outputId": "597db365-deca-4326-a306-ced8ef3868a5"
            },
            "execution_count": 11,
            "outputs": [
                {
                    "output_type": "display_data",
                    "data": {
                        "text/plain": [
                            "<Figure size 640x480 with 50 Axes>"
                        ],
                        "image/png": "[encoded data removed]"
                    },
                    "metadata": {}
                }
            ]
        }
    ]
}